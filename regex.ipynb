{
 "cells": [
  {
   "cell_type": "code",
   "execution_count": 1,
   "metadata": {},
   "outputs": [],
   "source": [
    "import re"
   ]
  },
  {
   "cell_type": "markdown",
   "metadata": {},
   "source": [
    "### Search a pattern in String"
   ]
  },
  {
   "cell_type": "code",
   "execution_count": 4,
   "metadata": {},
   "outputs": [
    {
     "name": "stdout",
     "output_type": "stream",
     "text": [
      "Enter Sentence:sayak is good boy\n",
      "Enter Word:good\n",
      "good is present in \"sayak is good boy\"\n"
     ]
    }
   ],
   "source": [
    "sentence=input(\"Enter Sentence:\")\n",
    "word=input(\"Enter Word:\")\n",
    "if re.search(word,sentence):\n",
    "    print(word+\" is present in \\\"\"+sentence+\"\\\"\")\n",
    "else:\n",
    "    print(word+\" is not present in \\\"\"+sentence+\"\\\"\")"
   ]
  },
  {
   "cell_type": "markdown",
   "metadata": {},
   "source": [
    "### Find all matches of a String"
   ]
  },
  {
   "cell_type": "code",
   "execution_count": 5,
   "metadata": {},
   "outputs": [
    {
     "name": "stdout",
     "output_type": "stream",
     "text": [
      "['apeg', 'apel']\n"
     ]
    }
   ],
   "source": [
    "# . signifies any number of characters\n",
    "allOcc=re.findall(\"ape.\",\"if am good apegh apel\")\n",
    "print(allOcc)"
   ]
  },
  {
   "cell_type": "markdown",
   "metadata": {},
   "source": [
    "### Replace all matches"
   ]
  },
  {
   "cell_type": "code",
   "execution_count": 7,
   "metadata": {},
   "outputs": [
    {
     "name": "stdout",
     "output_type": "stream",
     "text": [
      "owl owl mat pat\n"
     ]
    }
   ],
   "source": [
    "owlFood = \"rat cat mat pat\"\n",
    "regex = re.compile(\"[cr]at\")\n",
    "owlFood = regex.sub(\"owl\",owlFood)\n",
    "print(owlFood)"
   ]
  },
  {
   "cell_type": "markdown",
   "metadata": {},
   "source": [
    "### Email pattern checking"
   ]
  },
  {
   "cell_type": "code",
   "execution_count": 9,
   "metadata": {},
   "outputs": [
    {
     "name": "stdout",
     "output_type": "stream",
     "text": [
      "['db@aol.com db']\n"
     ]
    }
   ],
   "source": [
    "emailList = \"db@aol.com db.com m@.com @apple.com db@.com\"\n",
    "matches=re.findall(\"[\\w._%+-]{1,20}@[\\w.-]{2,20}.[A-Za-z]{2,3}\",emailList)\n",
    "print(matches)"
   ]
  },
  {
   "cell_type": "code",
   "execution_count": null,
   "metadata": {},
   "outputs": [],
   "source": []
  }
 ],
 "metadata": {
  "kernelspec": {
   "display_name": "Python 3",
   "language": "python",
   "name": "python3"
  },
  "language_info": {
   "codemirror_mode": {
    "name": "ipython",
    "version": 3
   },
   "file_extension": ".py",
   "mimetype": "text/x-python",
   "name": "python",
   "nbconvert_exporter": "python",
   "pygments_lexer": "ipython3",
   "version": "3.8.5"
  }
 },
 "nbformat": 4,
 "nbformat_minor": 4
}
