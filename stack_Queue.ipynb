{
 "cells": [
  {
   "cell_type": "markdown",
   "metadata": {},
   "source": [
    "### Simplify DIrectory Path"
   ]
  },
  {
   "cell_type": "code",
   "execution_count": null,
   "metadata": {},
   "outputs": [],
   "source": [
    "Given a string A representing an absolute path for a file (Unix-style).\n",
    "\n",
    "Return the string A after simplifying the absolute path.\n",
    "\n",
    "Note:\n",
    "\n",
    "Absolute path always begin with ’/’ ( root directory ).\n",
    "\n",
    "Path will not have whitespace characters.\n",
    "\n",
    "\n",
    "\n",
    "Input Format\n",
    "\n",
    "The only argument given is string A.\n",
    "Output Format\n",
    "\n",
    "Return a string denoting the simplified absolue path for a file (Unix-style).\n",
    "For Example\n",
    "\n",
    "Input 1:\n",
    "    A = \"/home/\"\n",
    "Output 1:\n",
    "    \"/home\"\n",
    "\n",
    "Input 2:\n",
    "    A = \"/a/./b/../../c/\"\n",
    "Output 2:\n",
    "    \"/c\""
   ]
  },
  {
   "cell_type": "code",
   "execution_count": 30,
   "metadata": {},
   "outputs": [],
   "source": [
    "class Solution:\n",
    "    # @param A : string\n",
    "    # @return a strings\n",
    "    def simplifyPath(self, A):\n",
    "        path=A.split('/')\n",
    "        #print(path)\n",
    "        st=[]\n",
    "        for val in path:\n",
    "            #print(val,st)\n",
    "            if val=='..':\n",
    "                if len(st)>0:\n",
    "                    st.pop()\n",
    "            else:\n",
    "                if val!='.' and len(val)>0:\n",
    "                    st.append(val)\n",
    "                \n",
    "        op='/'\n",
    "        #print(st)\n",
    "        for folder in st:\n",
    "            op=op+folder+'/'\n",
    "        if len(op)>1:\n",
    "            op=op[:len(op)-1]\n",
    "        return op"
   ]
  },
  {
   "cell_type": "code",
   "execution_count": 31,
   "metadata": {},
   "outputs": [
    {
     "name": "stdout",
     "output_type": "stream",
     "text": [
      "/../\n",
      "[]\n"
     ]
    },
    {
     "data": {
      "text/plain": [
       "'/'"
      ]
     },
     "execution_count": 31,
     "metadata": {},
     "output_type": "execute_result"
    }
   ],
   "source": [
    "q=Solution()\n",
    "A=input()\n",
    "#/a/./b/../../c/\n",
    "q.simplifyPath(A)"
   ]
  },
  {
   "cell_type": "markdown",
   "metadata": {},
   "source": [
    "### Redundant Braces"
   ]
  },
  {
   "cell_type": "code",
   "execution_count": null,
   "metadata": {},
   "outputs": [],
   "source": [
    "Given a string A denoting an expression. It contains the following operators ’+’, ‘-‘, ‘*’, ‘/’.\n",
    "\n",
    "Chech whether A has redundant braces or not.\n",
    "\n",
    "Return 1 if A has redundant braces, else return 0.\n",
    "\n",
    "Note: A will be always a valid expression.\n",
    "\n",
    "\n",
    "\n",
    "Input Format\n",
    "\n",
    "The only argument given is string A.\n",
    "Output Format\n",
    "\n",
    "Return 1 if string has redundant braces, else return 0.\n",
    "For Example\n",
    "\n",
    "Input 1:\n",
    "    A = \"((a + b))\"\n",
    "Output 1:\n",
    "    1\n",
    "    Explanation 1:\n",
    "        ((a + b)) has redundant braces so answer will be 1.\n",
    "\n",
    "Input 2:\n",
    "    A = \"(a + (a + b))\"\n",
    "Output 2:\n",
    "    0\n",
    "    Explanation 2:\n",
    "        (a + (a + b)) doesn't have have any redundant braces so answer will be 0.\n",
    "Seen this question in"
   ]
  },
  {
   "cell_type": "code",
   "execution_count": 53,
   "metadata": {},
   "outputs": [],
   "source": [
    "class Solution:\n",
    "    # @param A : string\n",
    "    # @return an integer\n",
    "    def braces(self, A):\n",
    "        st=[]\n",
    "        flag=0\n",
    "        ops=['+','-','/','*']\n",
    "        for char in A:\n",
    "            if char==\")\":\n",
    "                ct=0\n",
    "                flag2=0\n",
    "                while st[-1]!='(':\n",
    "                    if st[-1] in ops:\n",
    "                        flag2=1\n",
    "                    ct+=1\n",
    "                    st.pop()\n",
    "                st.pop()\n",
    "                if ct==0 or flag2==0:\n",
    "                    flag=1\n",
    "                    break\n",
    "            else:\n",
    "                st.append(char)\n",
    "        return flag"
   ]
  },
  {
   "cell_type": "code",
   "execution_count": 54,
   "metadata": {},
   "outputs": [
    {
     "name": "stdout",
     "output_type": "stream",
     "text": [
      "((a+b))\n"
     ]
    },
    {
     "data": {
      "text/plain": [
       "1"
      ]
     },
     "execution_count": 54,
     "metadata": {},
     "output_type": "execute_result"
    }
   ],
   "source": [
    "q=Solution()\n",
    "A=input()\n",
    "#((a+b))\n",
    "q.braces(A)"
   ]
  },
  {
   "cell_type": "markdown",
   "metadata": {},
   "source": [
    "## First Non-repeating character"
   ]
  },
  {
   "cell_type": "code",
   "execution_count": null,
   "metadata": {},
   "outputs": [],
   "source": [
    "Problem Description\n",
    "\n",
    "Given a string A denoting a stream of lowercase alphabets. You have to make new string B.\n",
    "\n",
    "B is formed such that we have to find first non-repeating character each time a character is inserted \n",
    "to the stream and append it at the end to B. If no non-repeating character is found then append '#' at \n",
    "the end of B.\n",
    "\n",
    "\n",
    "\n",
    "Problem Constraints\n",
    "1 <= length of the string <= 100000\n",
    "\n",
    "\n",
    "\n",
    "Input Format\n",
    "The only argument given is string A.\n",
    "\n",
    "\n",
    "\n",
    "Output Format\n",
    "Return a string B after processing the stream of lowercase alphabets A.\n",
    "\n",
    "\n",
    "\n",
    "Example Input\n",
    "Input 1:\n",
    "\n",
    " A = \"abadbc\"\n",
    "Input 2:\n",
    "\n",
    " A = \"abcabc\"\n",
    "\n",
    "\n",
    "Example Output\n",
    "Output 1:\n",
    "\n",
    " \"aabbdd\"\n",
    "Output 2:\n",
    "\n",
    " \"aaabc#\"\n",
    "\n",
    "\n",
    "Example Explanation\n",
    "Explanation 1:\n",
    "\n",
    "    \"a\"      -   first non repeating character 'a'\n",
    "    \"ab\"     -   first non repeating character 'a'\n",
    "    \"aba\"    -   first non repeating character 'b'\n",
    "    \"abad\"   -   first non repeating character 'b'\n",
    "    \"abadb\"  -   first non repeating character 'd'\n",
    "    \"abadbc\" -   first non repeating character 'd'\n",
    "Explanation 2:\n",
    "\n",
    "    \"a\"      -   first non repeating character 'a'\n",
    "    \"ab\"     -   first non repeating character 'a'\n",
    "    \"abc\"    -   first non repeating character 'a'\n",
    "    \"abca\"   -   first non repeating character 'b'\n",
    "    \"abcab\"  -   first non repeating character 'c'\n",
    "    \"abcabc\" -   no non repeating character so '#'\n"
   ]
  },
  {
   "cell_type": "code",
   "execution_count": 1,
   "metadata": {},
   "outputs": [],
   "source": [
    "class Solution:\n",
    "    # @param A : string\n",
    "    # @return a strings\n",
    "    def solve(self, A):\n",
    "        hashMap={}\n",
    "        deletedMap={}\n",
    "        l=len(A)\n",
    "        op=\"\"\n",
    "        arr=[]\n",
    "        for i in range(l):\n",
    "            char=A[i]\n",
    "            if i==0:\n",
    "                op+=char\n",
    "                hashMap[char]=1\n",
    "                arr.append(char)\n",
    "            else:\n",
    "                if char in hashMap:\n",
    "                    if char not in deletedMap:\n",
    "                        arr.remove(char)\n",
    "                        deletedMap[char]=1\n",
    "                    if len(arr)>0:\n",
    "                        op+=arr[0]\n",
    "                    else:\n",
    "                        op+=\"#\"\n",
    "                else:\n",
    "                    hashMap[char]=1\n",
    "                    arr.append(char)\n",
    "                    if len(arr)>0:\n",
    "                        op+=arr[0]\n",
    "                    else:\n",
    "                        op+=\"#\"\n",
    "                    \n",
    "        return op"
   ]
  },
  {
   "cell_type": "code",
   "execution_count": 3,
   "metadata": {},
   "outputs": [
    {
     "data": {
      "text/plain": [
       "'hhhhhhsssssssspppppppppppppppppppyyyyyyyyyyyyyyyyyyyy'"
      ]
     },
     "execution_count": 3,
     "metadata": {},
     "output_type": "execute_result"
    }
   ],
   "source": [
    "q=Solution()\n",
    "A = \"hspkzrhozquywqsnumncuclkrrwsormkfprzotxrcotbnteiizlvt\"\n",
    "q.solve(A)"
   ]
  },
  {
   "cell_type": "code",
   "execution_count": 1,
   "metadata": {},
   "outputs": [
    {
     "name": "stdout",
     "output_type": "stream",
     "text": [
      "['s', 'ab']\n"
     ]
    }
   ],
   "source": [
    "arr=['s','b','ab']\n",
    "arr.remove('b')\n",
    "print(arr)"
   ]
  },
  {
   "cell_type": "markdown",
   "metadata": {},
   "source": [
    "## Nearest smaller number on left"
   ]
  },
  {
   "cell_type": "code",
   "execution_count": null,
   "metadata": {},
   "outputs": [],
   "source": [
    "Given an array, find the nearest smaller element G[i] for every element A[i] in the array such that the\n",
    "element has an index smaller than i.\n",
    "\n",
    "More formally,\n",
    "\n",
    "    G[i] for an element A[i] = an element A[j] such that \n",
    "    j is maximum possible AND \n",
    "    j < i AND\n",
    "    A[j] < A[i]\n",
    "Elements for which no smaller element exist, consider next smaller element as -1.\n",
    "\n",
    "Input Format\n",
    "\n",
    "The only argument given is integer array A.\n",
    "Output Format\n",
    "\n",
    "Return the integar array G such that G[i] contains nearest smaller number than A[i].If no such element\n",
    "occurs G[i] should be -1.\n",
    "For Example\n",
    "\n",
    "Input 1:\n",
    "    A = [4, 5, 2, 10, 8]\n",
    "Output 1:\n",
    "    G = [-1, 4, -1, 2, 2]\n",
    "Explaination 1:\n",
    "    index 1: No element less than 4 in left of 4, G[1] = -1\n",
    "    index 2: A[1] is only element less than A[2], G[2] = A[1]\n",
    "    index 3: No element less than 2 in left of 2, G[3] = -1\n",
    "    index 4: A[3] is nearest element which is less than A[4], G[4] = A[3]\n",
    "    index 4: A[3] is nearest element which is less than A[5], G[5] = A[3]\n",
    "    \n",
    "Input 2:\n",
    "    A = [3, 2, 1]\n",
    "Output 2:\n",
    "    [-1, -1, -1]\n",
    "Explaination 2:\n",
    "    index 1: No element less than 3 in left of 3, G[1] = -1\n",
    "    index 2: No element less than 2 in left of 2, G[2] = -1\n",
    "    index 3: No element less than 1 in left of 1, G[3] = -1\n"
   ]
  },
  {
   "cell_type": "markdown",
   "metadata": {},
   "source": [
    "### Naive: Two nested loops"
   ]
  },
  {
   "cell_type": "code",
   "execution_count": 1,
   "metadata": {},
   "outputs": [],
   "source": [
    "class Solution:\n",
    "    # @param A : list of integers\n",
    "    # @return a list of integers\n",
    "    def prevSmaller(self, A):\n",
    "        G=[]\n",
    "        l=len(A)\n",
    "        for i in range(l):\n",
    "            num=A[i]\n",
    "            if i==0:\n",
    "                G.append(-1)\n",
    "            else:\n",
    "                flag=0\n",
    "                for j in range(i-1,-1,-1):\n",
    "                    if A[j]<num:\n",
    "                        G.append(A[j])\n",
    "                        flag=1\n",
    "                        break\n",
    "                if flag==0:\n",
    "                    G.append(-1)\n",
    "        return G\n"
   ]
  },
  {
   "cell_type": "markdown",
   "metadata": {},
   "source": [
    "### O(n) Using Stack"
   ]
  },
  {
   "cell_type": "code",
   "execution_count": 6,
   "metadata": {},
   "outputs": [],
   "source": [
    "class Solution:\n",
    "    # @param A : list of integers\n",
    "    # @return a list of integers\n",
    "    def prevSmaller(self, A):\n",
    "        stack=[]\n",
    "        l=len(A)\n",
    "        output=[]\n",
    "        for i in range(l):\n",
    "            num=A[i]\n",
    "            while len(stack)>0 and stack[-1]>=num:\n",
    "                stack.pop()\n",
    "            if len(stack)>0:\n",
    "                output.append(stack[-1])\n",
    "            else:\n",
    "                output.append(-1)\n",
    "            stack.append(num)\n",
    "        return output"
   ]
  },
  {
   "cell_type": "code",
   "execution_count": 7,
   "metadata": {},
   "outputs": [
    {
     "data": {
      "text/plain": [
       "[-1, 4, -1, 2, 2]"
      ]
     },
     "execution_count": 7,
     "metadata": {},
     "output_type": "execute_result"
    }
   ],
   "source": [
    "q=Solution()\n",
    "A = [4, 5, 2, 10, 8]\n",
    "q.prevSmaller(A)"
   ]
  },
  {
   "cell_type": "markdown",
   "metadata": {},
   "source": [
    "## Sliding Window Maximum"
   ]
  },
  {
   "cell_type": "code",
   "execution_count": null,
   "metadata": {},
   "outputs": [],
   "source": [
    "Given an array of integers A. There is a sliding window of size B which\n",
    "is moving from the very left of the array to the very right.\n",
    "You can only see the w numbers in the window. Each time the sliding window moves\n",
    "rightwards by one position. You have to find the maximum for each window.\n",
    "The following example will give you more clarity.\n",
    "\n",
    "The array A is [1 3 -1 -3 5 3 6 7], and B is 3.\n",
    "\n",
    "Window position\tMax\n",
    "———————————-\t————————-\n",
    "[1 3 -1] -3 5 3 6 7\t3\n",
    "1 [3 -1 -3] 5 3 6 7\t3\n",
    "1 3 [-1 -3 5] 3 6 7\t5\n",
    "1 3 -1 [-3 5 3] 6 7\t5\n",
    "1 3 -1 -3 [5 3 6] 7\t6\n",
    "1 3 -1 -3 5 [3 6 7]\t7\n",
    "Return an array C, where C[i] is the maximum value of from A[i] to A[i+B-1].\n",
    "\n",
    "Note: If B > length of the array, return 1 element with the max of the array.\n",
    "\n",
    "\n",
    "\n",
    "Input Format\n",
    "\n",
    "The first argument given is the integer array A.\n",
    "The second argument given is the integer B.\n",
    "Output Format\n",
    "\n",
    "Return an array C, where C[i] is the maximum value of from A[i] to A[i+B-1]\n",
    "For Example\n",
    "\n",
    "Input 1:\n",
    "    A = [1, 3, -1, -3, 5, 3, 6, 7]\n",
    "    B = 3\n",
    "Output 1:\n",
    "    C = [3, 3, 5, 5, 6, 7]"
   ]
  },
  {
   "cell_type": "markdown",
   "metadata": {},
   "source": [
    "### naive: O(n*k)"
   ]
  },
  {
   "cell_type": "code",
   "execution_count": 12,
   "metadata": {},
   "outputs": [],
   "source": [
    "class Solution:\n",
    "    # @param A : tuple of integers\n",
    "    # @param B : integer\n",
    "    # @return a list of integers\n",
    "    def slidingMaximum(self, A, B):\n",
    "        l=len(A)\n",
    "        output=[]\n",
    "        window=list(A[:B])\n",
    "        start=0\n",
    "        end=B-1\n",
    "        while end<l:\n",
    "            output.append(max(window))\n",
    "            end+=1\n",
    "            start+=1\n",
    "            if end==l:\n",
    "                break\n",
    "            window.pop(0)\n",
    "            window.append(A[end])\n",
    "        return output"
   ]
  },
  {
   "cell_type": "code",
   "execution_count": 13,
   "metadata": {},
   "outputs": [
    {
     "data": {
      "text/plain": [
       "[10, 9, 8, 7, 6, 5, 4, 3, 2]"
      ]
     },
     "execution_count": 13,
     "metadata": {},
     "output_type": "execute_result"
    }
   ],
   "source": [
    "q=Solution()\n",
    "A = [ 10, 9, 8, 7, 6, 5, 4, 3, 2, 1 ]\n",
    "B = 2\n",
    "q.slidingMaximum(A,B)"
   ]
  },
  {
   "cell_type": "code",
   "execution_count": null,
   "metadata": {},
   "outputs": [],
   "source": []
  }
 ],
 "metadata": {
  "kernelspec": {
   "display_name": "Python 3",
   "language": "python",
   "name": "python3"
  },
  "language_info": {
   "codemirror_mode": {
    "name": "ipython",
    "version": 3
   },
   "file_extension": ".py",
   "mimetype": "text/x-python",
   "name": "python",
   "nbconvert_exporter": "python",
   "pygments_lexer": "ipython3",
   "version": "3.8.5"
  }
 },
 "nbformat": 4,
 "nbformat_minor": 4
}
