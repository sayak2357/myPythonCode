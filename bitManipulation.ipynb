{
 "cells": [
  {
   "cell_type": "markdown",
   "metadata": {},
   "source": [
    "### Number of Set Bits"
   ]
  },
  {
   "cell_type": "code",
   "execution_count": null,
   "metadata": {},
   "outputs": [],
   "source": [
    "Write a function that takes an unsigned integer and returns the number of 1 bits it has.\n",
    "\n",
    "Example:\n",
    "\n",
    "The 32-bit integer 11 has binary representation\n",
    "\n",
    "00000000000000000000000000001011\n",
    "so the function should return 3.\n",
    "\n",
    "Note that since Java does not have unsigned int, use long for Java"
   ]
  },
  {
   "cell_type": "code",
   "execution_count": 2,
   "metadata": {},
   "outputs": [],
   "source": [
    "class Solution:\n",
    "    # @param A : integer\n",
    "    # @return an integer\n",
    "    def numSetBits(self, A):\n",
    "        ct=0\n",
    "        x=A\n",
    "        while x>0:\n",
    "            if x&1:\n",
    "                ct+=1\n",
    "            x=x>>1\n",
    "        return ct\n"
   ]
  },
  {
   "cell_type": "code",
   "execution_count": 3,
   "metadata": {},
   "outputs": [
    {
     "name": "stdout",
     "output_type": "stream",
     "text": [
      "11\n"
     ]
    },
    {
     "data": {
      "text/plain": [
       "3"
      ]
     },
     "execution_count": 3,
     "metadata": {},
     "output_type": "execute_result"
    }
   ],
   "source": [
    "q=Solution()\n",
    "A=int(input())\n",
    "q.numSetBits(A)"
   ]
  },
  {
   "cell_type": "code",
   "execution_count": 16,
   "metadata": {},
   "outputs": [],
   "source": [
    "class Solution:\n",
    "    # @param A : integer\n",
    "    # @return an integer\n",
    "    def numSetBits(self, A):\n",
    "        #A=str(A)\n",
    "        binA=bin(A).replace(\"0b\", \"\")\n",
    "        #print(binA)\n",
    "        return binA.count('1')\n"
   ]
  },
  {
   "cell_type": "code",
   "execution_count": 17,
   "metadata": {},
   "outputs": [
    {
     "name": "stdout",
     "output_type": "stream",
     "text": [
      "11\n",
      "1011\n"
     ]
    },
    {
     "data": {
      "text/plain": [
       "3"
      ]
     },
     "execution_count": 17,
     "metadata": {},
     "output_type": "execute_result"
    }
   ],
   "source": [
    "q=Solution()\n",
    "A=int(input())\n",
    "q.numSetBits(A)"
   ]
  },
  {
   "cell_type": "markdown",
   "metadata": {},
   "source": [
    "## Count set bits"
   ]
  },
  {
   "cell_type": "code",
   "execution_count": null,
   "metadata": {},
   "outputs": [],
   "source": [
    "Given a positive integer A, the task is to count the total number of set bits in the \n",
    "binary representation of all the numbers from 1 to A.\n",
    "\n",
    "Return the count modulo 109 + 7.\n",
    "\n",
    "\n",
    "\n",
    "Problem Constraints\n",
    "1 <= A <= 109\n",
    "\n",
    "\n",
    "\n",
    "Input Format\n",
    "First and only argument is an integer A.\n",
    "\n",
    "\n",
    "\n",
    "Output Format\n",
    "Return an integer denoting the ( Total number of set bits in the binary representation of all \n",
    "                                the numbers from 1 to A )modulo 109 + 7.\n",
    "\n",
    "\n",
    "\n",
    "Example Input\n",
    "Input 1:\n",
    "\n",
    " A = 3\n",
    "Input 2:\n",
    "\n",
    " A = 1\n",
    "\n",
    "\n",
    "Example Output\n",
    "Output 1:\n",
    "\n",
    " 4\n",
    "Output 2:\n",
    "\n",
    " 1\n",
    "\n",
    "\n",
    "Example Explanation\n",
    "Explanation 1:\n",
    "\n",
    " DECIMAL    BINARY  SET BIT COUNT\n",
    "    1          01        1\n",
    "    2          10        1\n",
    "    3          11        2\n",
    " 1 + 1 + 2 = 4 \n",
    " Answer = 4 % 1000000007 = 4\n",
    "Explanation 2:\n",
    "\n",
    " A = 1\n",
    "  DECIMAL    BINARY  SET BIT COUNT\n",
    "    1          01        1\n",
    " Answer = 1 % 1000000007 = 1\n"
   ]
  },
  {
   "cell_type": "code",
   "execution_count": 7,
   "metadata": {},
   "outputs": [],
   "source": [
    "class Solution:\n",
    "    # @param A : integer\n",
    "    # @return an integer\n",
    "    def solve(self, A):\n",
    "        ct=0\n",
    "        \n",
    "        binaryA=bin(A).replace(\"0b\", \"\")\n",
    "        length=len(binaryA)\n",
    "        def binomialCoeff(n , k): \n",
    "            if k > n : \n",
    "                return 0\n",
    "            if k==0 or k ==n : \n",
    "                return 1\n",
    "            return binomialCoeff(n-1 , k-1) + binomialCoeff(n-1 , k)\n",
    "        for i in range(1,length+1):\n",
    "            setBits=i*binomialCoeff(length,i)\n",
    "            #print(i,setBits)\n",
    "            ct+=setBits\n",
    "        return ct%1000000007"
   ]
  },
  {
   "cell_type": "code",
   "execution_count": 10,
   "metadata": {},
   "outputs": [
    {
     "name": "stdout",
     "output_type": "stream",
     "text": [
      "5\n"
     ]
    },
    {
     "data": {
      "text/plain": [
       "12"
      ]
     },
     "execution_count": 10,
     "metadata": {},
     "output_type": "execute_result"
    }
   ],
   "source": [
    "q=Solution()\n",
    "A=int(input())\n",
    "q.solve(A)"
   ]
  },
  {
   "cell_type": "code",
   "execution_count": null,
   "metadata": {},
   "outputs": [],
   "source": []
  }
 ],
 "metadata": {
  "kernelspec": {
   "display_name": "Python 3",
   "language": "python",
   "name": "python3"
  },
  "language_info": {
   "codemirror_mode": {
    "name": "ipython",
    "version": 3
   },
   "file_extension": ".py",
   "mimetype": "text/x-python",
   "name": "python",
   "nbconvert_exporter": "python",
   "pygments_lexer": "ipython3",
   "version": "3.8.5"
  }
 },
 "nbformat": 4,
 "nbformat_minor": 4
}
