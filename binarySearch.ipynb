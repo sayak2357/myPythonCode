{
 "cells": [
  {
   "cell_type": "markdown",
   "metadata": {},
   "source": [
    "## Implement Power Function"
   ]
  },
  {
   "cell_type": "code",
   "execution_count": 24,
   "metadata": {},
   "outputs": [],
   "source": [
    "class Solution:\n",
    "    # @param x : integer\n",
    "    # @param n : integer\n",
    "    # @param d : integer\n",
    "    # @return an integer\n",
    "    def pow(self, x, n, d):\n",
    "        def power(x,n):\n",
    "            if n==1:\n",
    "                return x\n",
    "            if n==0:\n",
    "                if x!=0:\n",
    "                    return 1\n",
    "                else:\n",
    "                    return 0\n",
    "            if n%2==0:\n",
    "                smallPow=power(x,n//2)\n",
    "                return (smallPow*smallPow)%d\n",
    "            else:\n",
    "                smallPow=power(x,n//2)\n",
    "                return (x*smallPow*smallPow)%d\n",
    "        op=power(abs(x),n)\n",
    "        #print(op)\n",
    "        if x<0:\n",
    "            if n%2==1:\n",
    "                op=(-1)*op\n",
    "        #print(op)\n",
    "        return op%d"
   ]
  },
  {
   "cell_type": "code",
   "execution_count": 25,
   "metadata": {},
   "outputs": [
    {
     "name": "stdout",
     "output_type": "stream",
     "text": [
      "-1\n",
      "1\n",
      "20\n"
     ]
    },
    {
     "data": {
      "text/plain": [
       "19"
      ]
     },
     "execution_count": 25,
     "metadata": {},
     "output_type": "execute_result"
    }
   ],
   "source": [
    "x=int(input())\n",
    "n=int(input())\n",
    "d=int(input())\n",
    "q=Solution()\n",
    "q.pow(x,n,d)"
   ]
  },
  {
   "cell_type": "code",
   "execution_count": 6,
   "metadata": {},
   "outputs": [
    {
     "data": {
      "text/plain": [
       "19"
      ]
     },
     "execution_count": 6,
     "metadata": {},
     "output_type": "execute_result"
    }
   ],
   "source": [
    "-1%20"
   ]
  },
  {
   "cell_type": "markdown",
   "metadata": {},
   "source": [
    "## Median of Two Array Combined"
   ]
  },
  {
   "cell_type": "code",
   "execution_count": null,
   "metadata": {},
   "outputs": [],
   "source": [
    "There are two sorted arrays A and B of size m and n respectively.\n",
    "\n",
    "Find the median of the two sorted arrays ( The median of the array formed by merging both the arrays ).\n",
    "\n",
    "The overall run time complexity should be O(log (m+n)).\n",
    "\n",
    "Sample Input\n",
    "\n",
    "A : [1 4 5]\n",
    "B : [2 3]\n",
    "\n",
    "Sample Output\n",
    "\n",
    "3\n",
    " NOTE: IF the number of elements in the merged array is even, then the median is the average \n",
    "        of n / 2 th and n/2 + 1th element.\n",
    "For example, if the array is [1 2 3 4], the median is (2 + 3) / 2.0 = 2.5 \n",
    "Seen this question in a real interview before"
   ]
  },
  {
   "cell_type": "code",
   "execution_count": 29,
   "metadata": {},
   "outputs": [],
   "source": [
    "class Solution:\n",
    "    # @param A : tuple of integers\n",
    "    # @param B : tuple of integers\n",
    "    # @return a double\n",
    "    def findMedianSortedArrays(self, A, B):\n",
    "        finalArr=[]\n",
    "        i=0\n",
    "        j=0\n",
    "        la=len(A)\n",
    "        lb=len(B)\n",
    "        while i<la and j<lb:\n",
    "            if A[i]<B[j]:\n",
    "                finalArr.append(A[i])\n",
    "                i+=1\n",
    "            elif A[i]>B[j]:\n",
    "                finalArr.append(B[j])\n",
    "                j+=1\n",
    "            else:\n",
    "                finalArr.append(A[i])\n",
    "                finalArr.append(B[j])\n",
    "                i+=1\n",
    "                j+=1\n",
    "        while i<la:\n",
    "            finalArr.append(A[i])\n",
    "            i+=1\n",
    "        while j<lb:\n",
    "            finalArr.append(B[j])\n",
    "            j+=1\n",
    "        \n",
    "        #print(finalArr,la,lb)\n",
    "        if (la+lb)%2==0:\n",
    "            op=(finalArr[(la+lb)//2]+finalArr[((la+lb)//2)-1])/2\n",
    "        else:\n",
    "            op=finalArr[(la+lb)//2]\n",
    "        return op"
   ]
  },
  {
   "cell_type": "code",
   "execution_count": 30,
   "metadata": {},
   "outputs": [
    {
     "name": "stdout",
     "output_type": "stream",
     "text": [
      "[0, 23] 2 0\n"
     ]
    },
    {
     "data": {
      "text/plain": [
       "11.5"
      ]
     },
     "execution_count": 30,
     "metadata": {},
     "output_type": "execute_result"
    }
   ],
   "source": [
    "q=Solution()\n",
    "A = [ 0,23]\n",
    "B = [  ]\n",
    "q.findMedianSortedArrays(A,B)"
   ]
  },
  {
   "cell_type": "code",
   "execution_count": null,
   "metadata": {},
   "outputs": [],
   "source": []
  }
 ],
 "metadata": {
  "kernelspec": {
   "display_name": "Python 3",
   "language": "python",
   "name": "python3"
  },
  "language_info": {
   "codemirror_mode": {
    "name": "ipython",
    "version": 3
   },
   "file_extension": ".py",
   "mimetype": "text/x-python",
   "name": "python",
   "nbconvert_exporter": "python",
   "pygments_lexer": "ipython3",
   "version": "3.8.5"
  }
 },
 "nbformat": 4,
 "nbformat_minor": 4
}
