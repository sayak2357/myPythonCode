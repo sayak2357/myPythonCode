{
 "cells": [
  {
   "cell_type": "markdown",
   "metadata": {},
   "source": [
    "## Numbers of length K of Value less than C"
   ]
  },
  {
   "cell_type": "code",
   "execution_count": null,
   "metadata": {},
   "outputs": [],
   "source": [
    "Given a set of digits (A) in sorted order, find how many numbers of length B are possible \n",
    "whose value is less than number C.\n",
    "\n",
    " NOTE: All numbers can only have digits from the given set. \n",
    "Examples:\n",
    "\n",
    "\tInput:\n",
    "\t  0 1 5  \n",
    "\t  1  \n",
    "\t  2  \n",
    "\tOutput:  \n",
    "\t  2 (0 and 1 are possible)  \n",
    "\n",
    "\tInput:\n",
    "\t  0 1 2 5  \n",
    "\t  2  \n",
    "\t  21  \n",
    "\tOutput:\n",
    "\t  5 (10, 11, 12, 15, 20 are possible)"
   ]
  },
  {
   "cell_type": "code",
   "execution_count": 8,
   "metadata": {},
   "outputs": [],
   "source": [
    "class Solution:\n",
    "    # @param A : list of integers\n",
    "    # @param B : integer\n",
    "    # @param C : integer\n",
    "    # @return an integer\n",
    "    def solve(self, A, B, C):\n",
    "        def generateSetOfNumbers(a,b,i,opFinal):\n",
    "            AS=[str(x) for x in a]\n",
    "            if i==0:\n",
    "                op=[]\n",
    "                for dig in AS:\n",
    "                    op.append(dig)\n",
    "                if b==0:\n",
    "                    return []\n",
    "                else:\n",
    "                    return generateSetOfNumbers(a,b,i+1,op)\n",
    "            if i>=b:\n",
    "                return opFinal\n",
    "            else:\n",
    "                opShort=generateSetOfNumbers(a,b,i+1,opFinal)\n",
    "                temp=opShort[:]\n",
    "                ret=[]\n",
    "                for val in opShort:\n",
    "                    for digs in AS:\n",
    "                        ret.append(digs+val)\n",
    "                return ret\n",
    "        opTemp=generateSetOfNumbers(A,B,0,[])\n",
    "        op=[]\n",
    "        for val in opTemp:\n",
    "            num=int(val)\n",
    "            if len(str(num))==B and num<C:\n",
    "                op.append(num)\n",
    "        op.sort()\n",
    "        return op"
   ]
  },
  {
   "cell_type": "code",
   "execution_count": 10,
   "metadata": {},
   "outputs": [
    {
     "data": {
      "text/plain": [
       "[10, 11, 12, 15, 20]"
      ]
     },
     "execution_count": 10,
     "metadata": {},
     "output_type": "execute_result"
    }
   ],
   "source": [
    "q=Solution()\n",
    "A=[0 ,1 ,2 ,5] \n",
    "q.solve(A,2,21)"
   ]
  },
  {
   "cell_type": "markdown",
   "metadata": {},
   "source": [
    "## Count Total Set Bits"
   ]
  },
  {
   "cell_type": "code",
   "execution_count": null,
   "metadata": {},
   "outputs": [],
   "source": [
    "Problem Description\n",
    "\n",
    "Given a positive integer A, the task is to count the total number of set bits in the binary \n",
    "representation of all the numbers from 1 to A.\n",
    "\n",
    "Return the count modulo 109 + 7.\n",
    "\n",
    "\n",
    "\n",
    "Problem Constraints\n",
    "1 <= A <= 109\n",
    "\n",
    "\n",
    "\n",
    "Input Format\n",
    "First and only argument is an integer A.\n",
    "\n",
    "\n",
    "\n",
    "Output Format\n",
    "Return an integer denoting the ( Total number of set bits in the binary representation of all the \n",
    "                                numbers from 1 to A )modulo 109 + 7.\n",
    "\n",
    "\n",
    "\n",
    "Example Input\n",
    "Input 1:\n",
    "\n",
    " A = 3\n",
    "Input 2:\n",
    "\n",
    " A = 1\n",
    "\n",
    "\n",
    "Example Output\n",
    "Output 1:\n",
    "\n",
    " 4\n",
    "Output 2:\n",
    "\n",
    " 1\n",
    "\n",
    "\n",
    "Example Explanation\n",
    "Explanation 1:\n",
    "\n",
    " DECIMAL    BINARY  SET BIT COUNT\n",
    "    1          01        1\n",
    "    2          10        1\n",
    "    3          11        2\n",
    " 1 + 1 + 2 = 4 \n",
    " Answer = 4 % 1000000007 = 4\n",
    "Explanation 2:\n",
    "\n",
    " A = 1\n",
    "  DECIMAL    BINARY  SET BIT COUNT\n",
    "    1          01        1\n",
    " Answer = 1 % 1000000007 = 1\n"
   ]
  },
  {
   "cell_type": "code",
   "execution_count": 6,
   "metadata": {},
   "outputs": [],
   "source": [
    "class Solution:\n",
    "    # @param A : integer\n",
    "    # @return an integer\n",
    "    def solve(self, A):\n",
    "        def countSetBits(num):\n",
    "            ct=0\n",
    "            while num>0:\n",
    "                ct+=1\n",
    "                num=num&(num-1)\n",
    "            return ct \n",
    "        def totalSetBit(num):\n",
    "            import math\n",
    "            s=0\n",
    "            for i in range(1,num+1):\n",
    "                s=s+(math.comb(num,i)*i)\n",
    "            return s\n",
    "        ct=0\n",
    "        if A==0:\n",
    "            return 0\n",
    "        if A==1:\n",
    "            return 1\n",
    "        b=bin(A)[2:]\n",
    "        s=totalSetBit(len(b)-1)\n",
    "        startingNum=\"1\"+(len(b)-1)*\"0\"\n",
    "        startingDec=int(startingNum,2)\n",
    "        #print(startingDec,A)\n",
    "        #print(A,s)\n",
    "        for num in range(startingDec,A+1):\n",
    "            s+=countSetBits(num)\n",
    "        mod=pow(10,9)+7\n",
    "        return int(s%mod)\n"
   ]
  },
  {
   "cell_type": "code",
   "execution_count": 7,
   "metadata": {},
   "outputs": [
    {
     "name": "stdout",
     "output_type": "stream",
     "text": [
      "6\n"
     ]
    },
    {
     "data": {
      "text/plain": [
       "9"
      ]
     },
     "execution_count": 7,
     "metadata": {},
     "output_type": "execute_result"
    }
   ],
   "source": [
    "q=Solution()\n",
    "A=int(input())\n",
    "q.solve(A)"
   ]
  },
  {
   "cell_type": "code",
   "execution_count": 8,
   "metadata": {},
   "outputs": [],
   "source": [
    "class Solution:\n",
    "    # @param A : integer\n",
    "    # @return an integer\n",
    "    def solve(self, A):\n",
    "        def countSetBits(n) : \n",
    "            i = 0\n",
    "            ans = 0\n",
    "            while ((1 << i) <= n) : \n",
    "                k = 0\n",
    "                change = 1 << i \n",
    "                for j in range(0, n+1) : \n",
    "                    ans += k \n",
    "\n",
    "                    if change == 1 : \n",
    "                        k = not k \n",
    "                        change = 1 << i \n",
    "                    else : \n",
    "                        change -= 1\n",
    "                i += 1\n",
    "            return ans\n",
    "        m=pow(10,9)+7\n",
    "        return countSetBits(A)%m"
   ]
  },
  {
   "cell_type": "code",
   "execution_count": 9,
   "metadata": {},
   "outputs": [
    {
     "name": "stdout",
     "output_type": "stream",
     "text": [
      "6\n"
     ]
    },
    {
     "data": {
      "text/plain": [
       "9"
      ]
     },
     "execution_count": 9,
     "metadata": {},
     "output_type": "execute_result"
    }
   ],
   "source": [
    "q=Solution()\n",
    "A=int(input())\n",
    "q.solve(A)"
   ]
  },
  {
   "cell_type": "code",
   "execution_count": null,
   "metadata": {},
   "outputs": [],
   "source": []
  }
 ],
 "metadata": {
  "kernelspec": {
   "display_name": "Python 3",
   "language": "python",
   "name": "python3"
  },
  "language_info": {
   "codemirror_mode": {
    "name": "ipython",
    "version": 3
   },
   "file_extension": ".py",
   "mimetype": "text/x-python",
   "name": "python",
   "nbconvert_exporter": "python",
   "pygments_lexer": "ipython3",
   "version": "3.8.5"
  }
 },
 "nbformat": 4,
 "nbformat_minor": 4
}
