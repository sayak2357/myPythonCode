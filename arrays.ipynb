{
 "cells": [
  {
   "cell_type": "markdown",
   "metadata": {},
   "source": [
    "## Noble Integer"
   ]
  },
  {
   "cell_type": "code",
   "execution_count": 1,
   "metadata": {},
   "outputs": [],
   "source": [
    "#https://www.interviewbit.com/problems/noble-integer/"
   ]
  },
  {
   "cell_type": "code",
   "execution_count": 6,
   "metadata": {},
   "outputs": [],
   "source": [
    "class Solution:\n",
    "    # @param A : list of integers\n",
    "    # @return an integer\n",
    "    def solve(self, A):\n",
    "        flag=-1\n",
    "        l=len(A)\n",
    "        A.sort()\n",
    "        print(A)\n",
    "        for i in range(l):\n",
    "            num=A[i]\n",
    "            greater=l-i-1\n",
    "            if greater==num and num!=A[i+1]:\n",
    "                print(num)\n",
    "                return 1\n",
    "        return -1"
   ]
  },
  {
   "cell_type": "code",
   "execution_count": 7,
   "metadata": {},
   "outputs": [
    {
     "name": "stdout",
     "output_type": "stream",
     "text": [
      "[-10, -10, -10, -10, -10, -10, -10, -9, -9, -9, -9, -9, -9, -9, -9, -9, -8, -8, -8, -8, -8, -8, -8, -8, -8, -7, -7, -7, -7, -7, -7, -7, -7, -6, -6, -6, -6, -6, -6, -6, -6, -6, -6, -6, -5, -5, -5, -5, -5, -5, -5, -5, -4, -4, -4, -4, -4, -4, -4, -4, -4, -4, -4, -4, -3, -3, -3, -3, -3, -3, -3, -3, -3, -3, -3, -3, -2, -2, -2, -2, -2, -2, -2, -2, -2, -2, -1, -1, -1, -1, -1, -1, -1, -1, -1, -1, -1, 0, 0, 0, 0, 0, 0, 0, 0, 1, 1, 1, 1, 1, 1, 1, 1, 1, 1, 2, 2, 2, 2, 2, 2, 2, 2, 3, 3, 3, 3, 3, 3, 3, 3, 4, 4, 4, 4, 4, 4, 4, 5, 5, 5, 5, 5, 5, 5, 5, 5, 5, 6, 6, 6, 6, 6, 6, 6, 6, 6, 6, 6, 6, 7, 7, 7, 7, 7, 7, 7, 7, 7, 8, 8, 8, 8, 8, 9, 9, 9, 9, 9, 9, 9, 9, 9, 9]\n"
     ]
    },
    {
     "data": {
      "text/plain": [
       "-1"
      ]
     },
     "execution_count": 7,
     "metadata": {},
     "output_type": "execute_result"
    }
   ],
   "source": [
    "q=Solution()\n",
    "q.solve([ -4, 7, 5, 3, 5, -4, 2, -1, -9, -8, -3, 0, 9, -7, -4, -10, -4, 2, 6, 1, -2, -3, -1, -8, 0, -8, -7, -3, 5, -1, -8, -8, 8, -1, -3, 3, 6, 1, -8, -1, 3, -9, 9, -6, 7, 8, -6, 5, 0, 3, -4, 1, -10, 6, 3, -8, 0, 6, -9, -5, -5, -6, -3, 6, -5, -4, -1, 3, 7, -6, 5, -8, -5, 4, -3, 4, -6, -7, 0, -3, -2, 6, 8, -2, -6, -7, 1, 4, 9, 2, -10, 6, -2, 9, 2, -4, -4, 4, 9, 5, 0, 4, 8, -3, -9, 7, -8, 7, 2, 2, 6, -9, -10, -4, -9, -5, -1, -6, 9, -10, -1, 1, 7, 7, 1, -9, 5, -1, -3, -3, 6, 7, 3, -4, -5, -4, -7, 9, -6, -2, 1, 2, -1, -7, 9, 0, -2, -2, 5, -10, -1, 6, -7, 8, -5, -4, 1, -9, 5, 9, -2, -6, -2, -9, 0, 3, -10, 4, -6, -6, 4, -3, 6, -7, 1, -3, -5, 9, 6, 2, 1, 7, -2, 5 ])"
   ]
  },
  {
   "cell_type": "markdown",
   "metadata": {},
   "source": [
    "## Wave Array"
   ]
  },
  {
   "cell_type": "code",
   "execution_count": null,
   "metadata": {},
   "outputs": [],
   "source": [
    "Given an array of integers, sort the array into a wave like array and return it,\n",
    "In other words, arrange the elements into a sequence such that a1 >= a2 <= a3 >= a4 <= a5.....\n",
    "\n",
    "Example\n",
    "\n",
    "Given [1, 2, 3, 4]\n",
    "\n",
    "One possible answer : [2, 1, 4, 3]\n",
    "Another possible answer : [4, 1, 3, 2]\n",
    "NOTE : If there are multiple answers possible, return the one thats lexicographically smallest.\n",
    "So, in example case, you will return [2, 1, 4, 3] "
   ]
  },
  {
   "cell_type": "code",
   "execution_count": 12,
   "metadata": {},
   "outputs": [],
   "source": [
    "class Solution:\n",
    "    # @param A : list of integers\n",
    "    # @return a list of integers\n",
    "    def wave(self, A):\n",
    "        l=len(A)\n",
    "        b=A[:]\n",
    "        b.sort()\n",
    "        op=[]\n",
    "        i=0\n",
    "        while i<l:\n",
    "            if i<l-1:\n",
    "                op.append(b[i+1])\n",
    "                op.append(b[i])\n",
    "            else:\n",
    "                op.append(b[i])\n",
    "            i+=2\n",
    "        return op"
   ]
  },
  {
   "cell_type": "code",
   "execution_count": 13,
   "metadata": {},
   "outputs": [
    {
     "data": {
      "text/plain": [
       "[13, 6, 17, 15]"
      ]
     },
     "execution_count": 13,
     "metadata": {},
     "output_type": "execute_result"
    }
   ],
   "source": [
    "q=Solution()\n",
    "q.wave([ 6, 17, 15, 13 ])"
   ]
  },
  {
   "cell_type": "markdown",
   "metadata": {},
   "source": [
    "## First Missing Positive Integer"
   ]
  },
  {
   "cell_type": "code",
   "execution_count": null,
   "metadata": {},
   "outputs": [],
   "source": [
    "Given an unsorted integer array, find the first missing positive integer.\n",
    "\n",
    "Example:\n",
    "\n",
    "Given [1,2,0] return 3,\n",
    "\n",
    "[3,4,-1,1] return 2,\n",
    "\n",
    "[-8, -7, -6] returns 1\n",
    "\n",
    "Your algorithm should run in O(n) time and use constant space."
   ]
  },
  {
   "cell_type": "code",
   "execution_count": 1,
   "metadata": {},
   "outputs": [],
   "source": [
    "class Solution:\n",
    "    # @param A : list of integers\n",
    "    # @return an integer\n",
    "    def firstMissingPositive(self, A):\n",
    "        firstDig=1\n",
    "        A.sort()\n",
    "        for num in A:\n",
    "            if num==firstDig:\n",
    "                firstDig+=1\n",
    "        return firstDig"
   ]
  },
  {
   "cell_type": "code",
   "execution_count": 2,
   "metadata": {},
   "outputs": [
    {
     "data": {
      "text/plain": [
       "4"
      ]
     },
     "execution_count": 2,
     "metadata": {},
     "output_type": "execute_result"
    }
   ],
   "source": [
    "q=Solution()\n",
    "q.firstMissingPositive([ 463, 127, 436, 72, 79, 301, 613, 898, 675, 960, 832, 486, 453, 274, 133, 721, 750, 538, 545, 112, 414, 817, 885, 812, 906, 577, 544, 101, 165, 45, 489, 503, 479, 293, 234, 427, 347, 851, 316, 827, 209, 578, 255, 56, 608, 914, 156, 537, 870, 567, 284, 240, 292, 111, 590, 713, 110, 768, 598, 879, 980, 660, 46, 320, 410, 869, 154, 970, 836, 423, 413, 501, 782, 403, 561, 117, 624, 638, 67, 646, 917, 379, 344, 543, 978, 506, 936, 947, 645, 633, 375, 706, 531, 470, 551, 632, 536, 642, 573, 705, 823, 897, 26, 476, 139, 496, 628, 91, 725, 570, 701, 244, 935, 126, 2, 560, 726, 20, 680, 7, 888, 183, 80, 804, 729, 583, 728, 515, 644, 774, 856, 192, 386, 25, 57, 471, 482, 174, 627, 757, 714, 203, 206, 847, 245, 336, 989, 326, 607, 95, 69, 71, 54, 975, 366, 591, 185, 964, 848, 84, 819, 737, 687, 215, 904, 651, 289, 134, 232, 341, 932, 64, 483, 128, 901, 808, 896, 941, 530, 195, 865, 903, 472, 508, 42, 971, 53, 86, 689, 925, 685, 934, 549, 841, 169, 317, 826, 600, 950, 90, 495, 219, 674, 814, 359, 556, 269, 187, 517, 541, 558, 8, 744, 958, 332, 163, 862, 218, 376, 23, 321, 346, 534, 864, 157, 285, 318, 200, 595, 810, 43, 32, 368, 753, 670, 887, 238, 1000, 513, 979, 499, 708, 473, 584, 981, 106, 695, 868, 881, 610, 273, 239, 190, 281, 373, 247, 364, 396, 837, 521, 871, 528, 617, 123, 894, 965, 108, 976, 451, 454, 673, 910, 681, 300, 702, 703, 307, 196, 535, 407, 763, 966, 945, 944, 65, 752, 776, 973, 554, 3, 998, 559, 35, -3, 147, 395, 761, 442, 586, 899, 191, 990, 606, 771, 393, 649, 987, 593, 877, 527, 201, 259, 150, 683, 263, 330, 21, 105, 406, 233, 303, 254, 33, 417, 497, 622, 286, 9, 967, 603, 78, 118, 304, 235, 985, 657, 741, 425, 995, 592, 844, 933, 99, 524, 418, 623, 529, 797, 342, 217, 580, 691, 772, 13, 390, 666, 87, 448, 505, 907, 765, 802, 484, 419, 669, 780, 96, 585, 796, 686, 302, 858, 388, 438, 893, 735, 360, 913, 902, 279, 720, 408, 287, 996, 507, 28, 416, 731, 928, 977, 547, 739, 788, 168, 331, 146, 664, 619, 723, 732, 102, 14, 424, 216, 575, 568, 93, 992, 272, 160, 389, 47, 647, 189, 988, 343, 991, 940, 358, 181, 611, 229, 265, 892, 422, 211, 443, 747, 736, 266, 652, 351, 612, 514, 876, 637, 329, 474, 68, 730, 825, 676, 778, 208, 956, 270, 398, 968, 268, 594, 288, 385, 866, 197, 428, 441, 672, 158, 618, 811, 363, 905, 462, 241, 226, 450, 309, 170, 822, 727, 333, 335, 92, 540, 202, 205, 115, 153, 569, 142, 290, 943, 394, 248, 228, 643, 415, 784, 579, 571, 291, 177, 711, 149, 130, 921, 922, 439, 951, 338, 769, 283, 308, 857, 253, 833, 490, 824, 518, 525, 131, 924, 27, 830, 915, 237, 694, 581, 609, 19, 152, 566, 465, 140, 81, 313, 969, 327, 6, 526, 135, 186, 656, 662, 155, 874, 648, 488, 199, 677, 952, 614, 722, 369, 682, 129, 478, 433, 809, 891, 717, 550, 748, 0, 323, 469, 151, 41, 299, 193, 487, 931, 634, 400, 799, 884, 405, 480, 76, 805, 926, 426, 312, 821, 178, 789, 449, 697, 853, 295, 48, 224, 397, 447, 946, 49, 382, 236, 867, 485, 349, 231, 227, 39, 38, 882, 210, 457, 222, 852, 665, 138, 455, 114, 204, 498, 511, 230, 509, 278, 365, 831, 412, 5, 816, 1, 324, 194, 464, 141, 420, 795, 839, 641, 10, 777, 15, 519, 829, 961, 109, 31, -5, 63, 421, 77, 430, 542, 452, 256, 355, 357, 704, 434, 459, 262, 132, 863, 468, 929, 716, 564, 890, 616, 855, 845, 548, 143, 145, 707, 787, 948, 11, 872, 61, 909, 762, 639, 786, 350, 136, 972, 75, 605, 354, 339, 305, 754, 755, 658, 40, 319, 620, 679, 984, 252, 477, 432, 684, 766, 280, 912, 949, 328, 834, 522, 310, 920, 546, 770, 214, 962, 678, 760, 916, -4, 401, 12, 957, 806, 791, 261, 277, 372, 17, 85, 982, 97, 125, 698, 399, 381, 655, 315, 182, 923, 886, 440, 223, 387, 173, 663, 588, 122, 113, 98, 803, 353, 668, 311, 587, 444, 636, 939, 429, 790, 718, 938, 738, 50, 362, 435, 813, 908, 650, 843, 959, 460, 849, 167, 384, 348, 467, 337, 356, 724, 516, 121, 880, 667, 779, 709, 986, 751, 51, 781, 659, 794, 653, 635, 553, 60, 322, 352, 696, 392, 250, 119, 431, 746, 164, 107, 563, 461, 532, 712, 391, 840, 380, 801, 574, 900, 576, 640, 378, 963, 601, 267, 207, 370, 225, 260, 500, 883, 159, 58, 166, 745, 179, 251, 271, 294, 257, 631, 895, 604, 828, 953, 520, 16, 818, 539, 491, 120, 875, 89, 692, 458, 552, 599, 861, 492, 74, 699, 55, 475, 345, 24, 700, 889, 937, 785, 758, 983 ])"
   ]
  },
  {
   "cell_type": "markdown",
   "metadata": {},
   "source": [
    "## Set Matrix to 0"
   ]
  },
  {
   "cell_type": "code",
   "execution_count": null,
   "metadata": {},
   "outputs": [],
   "source": [
    "Given a matrix, A of size M x N of 0s and 1s. If an element is 0, set its entire row and column to 0.\n",
    "\n",
    "Note: This will be evaluated on the extra memory used. Try to minimize the space and time complexity.\n",
    "\n",
    "\n",
    "\n",
    "Input Format:\n",
    "\n",
    "The first and the only argument of input contains a 2-d integer matrix, A, of size M x N.\n",
    "Output Format:\n",
    "\n",
    "Return a 2-d matrix that satisfies the given conditions.\n",
    "Constraints:\n",
    "\n",
    "1 <= N, M <= 1000\n",
    "0 <= A[i][j] <= 1\n",
    "Examples:\n",
    "\n",
    "Input 1:\n",
    "    [   [1, 0, 1],\n",
    "        [1, 1, 1], \n",
    "        [1, 1, 1]   ]\n",
    "\n",
    "Output 1:\n",
    "    [   [0, 0, 0],\n",
    "        [1, 0, 1],\n",
    "        [1, 0, 1]   ]\n",
    "\n",
    "Input 2:\n",
    "    [   [1, 0, 1],\n",
    "        [1, 1, 1],\n",
    "        [1, 0, 1]   ]\n",
    "\n",
    "Output 2:\n",
    "    [   [0, 0, 0],\n",
    "        [1, 0, 1],\n",
    "        [0, 0, 0]   ]\n",
    "Seen this q"
   ]
  },
  {
   "cell_type": "code",
   "execution_count": 54,
   "metadata": {},
   "outputs": [],
   "source": [
    "class Solution:\n",
    "    # @param A : list of list of integers\n",
    "    # @return the same list modified\n",
    "    def setZeroes(self, A):\n",
    "        B=A[:]\n",
    "        def changeRowColumn(mat, M, N, x, y):\n",
    "            for j in range(N):\n",
    "                if mat[x][j]:\n",
    "                    mat[x][j] = -1\n",
    " \n",
    "            for i in range(M):\n",
    "                if mat[i][y]:\n",
    "                    mat[i][y] = -1\n",
    "        def convert(mat):\n",
    "            (M, N) = (len(mat), len(mat[0]))\n",
    "            for i in range(M):\n",
    "                for j in range(N):\n",
    "                    if mat[i][j] == 0:  \n",
    "                        changeRowColumn(mat, M, N, i, j)\n",
    " \n",
    "            for i in range(M):\n",
    "                for j in range(N):\n",
    "                    if mat[i][j] == -1:\n",
    "                        mat[i][j] = 0\n",
    "        convert(B)\n",
    "        return B\n",
    "    "
   ]
  },
  {
   "cell_type": "code",
   "execution_count": 55,
   "metadata": {},
   "outputs": [
    {
     "data": {
      "text/plain": [
       "[[0, 0], [0, 1]]"
      ]
     },
     "execution_count": 55,
     "metadata": {},
     "output_type": "execute_result"
    }
   ],
   "source": [
    "q=Solution()\n",
    "q.setZeroes([[0, 1],[1, 1]])"
   ]
  },
  {
   "cell_type": "markdown",
   "metadata": {},
   "source": [
    "## Combination Sum"
   ]
  },
  {
   "cell_type": "code",
   "execution_count": null,
   "metadata": {},
   "outputs": [],
   "source": [
    "Given an array of distinct integers candidates and a target integer target, \n",
    "return a list of all unique combinations of candidates where the chosen numbers sum to target. \n",
    "You may return the combinations in any order.\n",
    "\n",
    "The same number may be chosen from candidates an unlimited number of times. Two combinations are unique \n",
    "if the frequency of at least one of the chosen numbers is different.\n",
    "\n",
    "It is guaranteed that the number of unique combinations that sum up to target is less than 150 \n",
    "combinations for the given input.\n",
    "\n",
    " \n",
    "\n",
    "Example 1:\n",
    "\n",
    "Input: candidates = [2,3,6,7], target = 7\n",
    "Output: [[2,2,3],[7]]\n",
    "Explanation:\n",
    "2 and 3 are candidates, and 2 + 2 + 3 = 7. Note that 2 can be used multiple times.\n",
    "7 is a candidate, and 7 = 7.\n",
    "These are the only two combinations."
   ]
  },
  {
   "cell_type": "code",
   "execution_count": 4,
   "metadata": {},
   "outputs": [
    {
     "name": "stdout",
     "output_type": "stream",
     "text": [
      "2\n",
      "1\n",
      "[]\n"
     ]
    }
   ],
   "source": [
    "candidates=[int(x)for x in input().split(' ')]\n",
    "target=int(input())\n",
    "op=[]\n",
    "def targetSum(arr,tempSum,target,choices):\n",
    "    global op\n",
    "    if tempSum==target:\n",
    "        temp=choices[:]\n",
    "        temp.sort()\n",
    "        if temp not in op:\n",
    "            op.append(temp)\n",
    "        return\n",
    "    elif tempSum>target:\n",
    "        return\n",
    "    else:\n",
    "        for num in arr:\n",
    "            c=choices[:]\n",
    "            c.append(num)\n",
    "            targetSum(arr,tempSum+num,target,c)\n",
    "        return\n",
    "targetSum(candidates,0,target,[])\n",
    "print(op)"
   ]
  },
  {
   "cell_type": "code",
   "execution_count": null,
   "metadata": {},
   "outputs": [],
   "source": [
    "Partitions\n",
    "Asked in:  \n",
    "EzCred\n",
    "Problem Description\n",
    "\n",
    "You are given a 1D integer array B containing A integers.\n",
    "\n",
    "Count the number of ways to split all the elements of the array into 3 contiguous parts so that the sum of elements in each part is the same.\n",
    "\n",
    "Such that : sum(B[1],..B[i]) = sum(B[i+1],...B[j]) = sum(B[j+1],...B[n])\n",
    "\n",
    "\n",
    "\n",
    "Problem Constraints\n",
    "1 <= A <= 105\n",
    "\n",
    "-109 <= B[i] <= 109\n",
    "\n",
    "\n",
    "\n",
    "Input Format\n",
    "First argument is an integer A.\n",
    "\n",
    "Second argument is an 1D integer array B of size A.\n",
    "\n",
    "\n",
    "\n",
    "Output Format\n",
    "Return a single integer denoting the number of ways to split the array B into three parts with the same sum.\n",
    "\n",
    "\n",
    "\n",
    "Example Input\n",
    "Input 1:\n",
    "\n",
    " A = 5\n",
    " B = [1, 2, 3, 0, 3]\n",
    "Input 2:\n",
    "\n",
    " A = 4\n",
    " B = [0, 1, -1, 0]\n",
    "\n",
    "\n",
    "Example Output\n",
    "Output 1:\n",
    "\n",
    " 2\n",
    "Output 2:\n",
    "\n",
    " 1\n",
    "\n",
    "\n",
    "Example Explanation\n",
    "Explanation 1:\n",
    "\n",
    " There are no 2 ways to make partitions -\n",
    " 1. (1,2)+(3)+(0,3).\n",
    " 2. (1,2)+(3,0)+(3).\n",
    "Explanation 2:\n",
    "\n",
    " There is only 1 way to make partition -\n",
    " 1. (0)+(-1,1)+(0).\n"
   ]
  },
  {
   "cell_type": "code",
   "execution_count": 37,
   "metadata": {},
   "outputs": [
    {
     "name": "stdout",
     "output_type": "stream",
     "text": [
      "[0] [0] [0, 0, 0, 0, 0, 0, 0]\n",
      "[0] [0, 0] [0, 0, 0, 0, 0, 0]\n",
      "[0] [0, 0, 0] [0, 0, 0, 0, 0]\n",
      "[0] [0, 0, 0, 0] [0, 0, 0, 0]\n",
      "[0] [0, 0, 0, 0, 0] [0, 0, 0]\n",
      "[0] [0, 0, 0, 0, 0, 0] [0, 0]\n",
      "[0] [0, 0, 0, 0, 0, 0, 0] [0]\n",
      "[0, 0] [0] [0, 0, 0, 0, 0, 0]\n",
      "[0, 0] [0, 0] [0, 0, 0, 0, 0]\n",
      "[0, 0] [0, 0, 0] [0, 0, 0, 0]\n",
      "[0, 0] [0, 0, 0, 0] [0, 0, 0]\n",
      "[0, 0] [0, 0, 0, 0, 0] [0, 0]\n",
      "[0, 0] [0, 0, 0, 0, 0, 0] [0]\n",
      "[0, 0, 0] [0] [0, 0, 0, 0, 0]\n",
      "[0, 0, 0] [0, 0] [0, 0, 0, 0]\n",
      "[0, 0, 0] [0, 0, 0] [0, 0, 0]\n",
      "[0, 0, 0] [0, 0, 0, 0] [0, 0]\n",
      "[0, 0, 0] [0, 0, 0, 0, 0] [0]\n",
      "[0, 0, 0, 0] [0] [0, 0, 0, 0]\n",
      "[0, 0, 0, 0] [0, 0] [0, 0, 0]\n",
      "[0, 0, 0, 0] [0, 0, 0] [0, 0]\n",
      "[0, 0, 0, 0] [0, 0, 0, 0] [0]\n",
      "[0, 0, 0, 0, 0] [0] [0, 0, 0]\n",
      "[0, 0, 0, 0, 0] [0, 0] [0, 0]\n",
      "[0, 0, 0, 0, 0] [0, 0, 0] [0]\n",
      "[0, 0, 0, 0, 0, 0] [0] [0, 0]\n",
      "[0, 0, 0, 0, 0, 0] [0, 0] [0]\n",
      "[0, 0, 0, 0, 0, 0, 0] [0] [0]\n"
     ]
    },
    {
     "data": {
      "text/plain": [
       "28"
      ]
     },
     "execution_count": 37,
     "metadata": {},
     "output_type": "execute_result"
    }
   ],
   "source": [
    "class Solution:\n",
    "    # @param A : integer\n",
    "    # @param B : list of integers\n",
    "    # @return an integer\n",
    "    def solve(self, A, B):\n",
    "        ct=0\n",
    "        op=[]\n",
    "        for i in range(1,A-1):\n",
    "            for j in range(i+1,A):\n",
    "                p1=B[:i]\n",
    "                p2=B[i:j]\n",
    "                p3=B[j:]\n",
    "                s1=sum(p1)\n",
    "                s2=sum(p2)\n",
    "                s3=sum(p3)\n",
    "                #sum1=(p1,p2,p3)\n",
    "                print(p1,p2,p3)\n",
    "                if s1==s2 and s2==s3:\n",
    "                    ct+=1\n",
    "                    #op.append(sum1)\n",
    "                    #print(p1,p2,p3)\n",
    "        return ct\n",
    "                    \n",
    "q=Solution()\n",
    "B = [0,0,0,0,0,0,0,0,0]\n",
    "A=len(B)\n",
    "q.solve(A,B)"
   ]
  },
  {
   "cell_type": "markdown",
   "metadata": {},
   "source": [
    "## Combination Sum II"
   ]
  },
  {
   "cell_type": "code",
   "execution_count": null,
   "metadata": {},
   "outputs": [],
   "source": [
    "Given a collection of candidate numbers (candidates) and a target number (target), \n",
    "find all unique combinations in candidates where the candidate numbers sum to target.\n",
    "\n",
    "Each number in candidates may only be used once in the combination.\n",
    "\n",
    "Note: The solution set must not contain duplicate combinations.\n",
    "\n",
    " \n",
    "\n",
    "Example 1:\n",
    "\n",
    "Input: candidates = [10,1,2,7,6,1,5], target = 8\n",
    "Output: \n",
    "[\n",
    "[1,1,6],\n",
    "[1,2,5],\n",
    "[1,7],\n",
    "[2,6]\n",
    "]\n"
   ]
  },
  {
   "cell_type": "code",
   "execution_count": 4,
   "metadata": {},
   "outputs": [
    {
     "name": "stdout",
     "output_type": "stream",
     "text": [
      "2 5 2 1 2\n",
      "5\n",
      "[[1, 2, 2], [5]]\n"
     ]
    }
   ],
   "source": [
    "candidates=[int(i)for i in input().split(' ')]\n",
    "target=int(input())\n",
    "op=[]\n",
    "def targetSum(arr,start,tempSum,target,ele):\n",
    "    l=len(arr)\n",
    "    if tempSum>target:\n",
    "        return\n",
    "    if tempSum==target:\n",
    "        global op\n",
    "        if ele not in op:\n",
    "            op.append(ele)\n",
    "    if start>=l:\n",
    "        return\n",
    "    e2=ele[:]\n",
    "    e2.append(arr[start])\n",
    "    targetSum(arr,start+1,tempSum+arr[start],target,e2)\n",
    "    targetSum(arr,start+1,tempSum,target,ele)\n",
    "candidates.sort()\n",
    "targetSum(candidates,0,0,target,[])\n",
    "print(op)"
   ]
  },
  {
   "cell_type": "markdown",
   "metadata": {},
   "source": [
    "## Perfect Peak Array"
   ]
  },
  {
   "cell_type": "code",
   "execution_count": null,
   "metadata": {},
   "outputs": [],
   "source": [
    "Problem Description\n",
    "\n",
    "Given an integer array A of size N.\n",
    "\n",
    "You need to check that whether there exist a element which is strictly greater than all the elements \n",
    "on left of it and strictly smaller than all the elements on right of it.\n",
    "\n",
    "If it exists return 1 else return 0.\n",
    "\n",
    "NOTE:\n",
    "\n",
    "Do not consider the corner elements i.e A[0] and A[N-1] as the answer.\n",
    "\n",
    "\n",
    "Problem Constraints\n",
    "3 <= N <= 105\n",
    "\n",
    "1 <= A[i] <= 109\n",
    "\n",
    "\n",
    "\n",
    "Input Format\n",
    "First and only argument is an integer array A containing N integers.\n",
    "\n",
    "\n",
    "\n",
    "Output Format\n",
    "Return 1 if there exist a element that is strictly greater than all the elements on left of it \n",
    "and strictly smaller than all the elements on right of it else return 0.\n",
    "\n",
    "\n",
    "\n",
    "Example Input\n",
    "Input 1:\n",
    "\n",
    " A = [5, 1, 4, 3, 6, 8, 10, 7, 9]\n",
    "Input 2:\n",
    "\n",
    " A = [5, 1, 4, 4]\n",
    "\n",
    "\n",
    "Example Output\n",
    "Output 1:\n",
    "\n",
    " 1\n",
    "Output 2:\n",
    "\n",
    " 0\n",
    "\n",
    "\n",
    "Example Explanation\n",
    "Explanation 1:\n",
    "\n",
    " A[4] = 6 is the element we are looking for.\n",
    " All elements on left of A[4] are smaller than it and all elements on right are greater.\n",
    "Explanation 2:\n",
    "\n",
    " No such element exits.\n"
   ]
  },
  {
   "cell_type": "code",
   "execution_count": 45,
   "metadata": {},
   "outputs": [],
   "source": [
    "class Solution:\n",
    "    # @param A : list of integers\n",
    "    # @return an integer\n",
    "    def perfectPeak(self, A):\n",
    "        l=len(A)\n",
    "        import math\n",
    "        maxOnLeft=[math.inf,A[0]]\n",
    "        for i in range(2,l):\n",
    "            if A[i-1]>maxOnLeft[-1]:\n",
    "                maxOnLeft.append(A[i-1])\n",
    "            else:\n",
    "                num=maxOnLeft[-1]\n",
    "                maxOnLeft.append(num)\n",
    "        minOnRight=[A[-1],-math.inf]\n",
    "        for i in range(l-3,-1,-1):\n",
    "            if A[i+1]<minOnRight[0]:\n",
    "                minOnRight.insert(0,A[i+1])\n",
    "            else:\n",
    "                num=minOnRight[0]\n",
    "                minOnRight.insert(0,num)\n",
    "        #print(maxOnLeft,minOnRight)\n",
    "        for i in range(1,l-1):\n",
    "            num=A[i]\n",
    "            if num>maxOnLeft[i] and num<minOnRight[i]:\n",
    "                return 1\n",
    "        return 0"
   ]
  },
  {
   "cell_type": "code",
   "execution_count": 47,
   "metadata": {},
   "outputs": [
    {
     "name": "stdout",
     "output_type": "stream",
     "text": [
      "[inf, 5, 5, 5] [1, 4, 4, -inf]\n"
     ]
    },
    {
     "data": {
      "text/plain": [
       "0"
      ]
     },
     "execution_count": 47,
     "metadata": {},
     "output_type": "execute_result"
    }
   ],
   "source": [
    "q=Solution()\n",
    "q.perfectPeak([5, 1, 4, 4])"
   ]
  },
  {
   "cell_type": "markdown",
   "metadata": {},
   "source": [
    "## Merge Overlapping Interval"
   ]
  },
  {
   "cell_type": "code",
   "execution_count": null,
   "metadata": {},
   "outputs": [],
   "source": [
    "Given a collection of intervals, merge all overlapping intervals.\n",
    "\n",
    "For example:\n",
    "\n",
    "Given [1,3],[2,6],[8,10],[15,18],\n",
    "\n",
    "return [1,6],[8,10],[15,18].\n",
    "\n",
    "Make sure the returned intervals are sorted."
   ]
  },
  {
   "cell_type": "code",
   "execution_count": null,
   "metadata": {},
   "outputs": [],
   "source": [
    "# Definition for an interval.\n",
    "# class Interval:\n",
    "#     def __init__(self, s=0, e=0):\n",
    "#         self.start = s\n",
    "#         self.end = e\n",
    "\n",
    "class Solution:\n",
    "    # @param intervals, a list of Intervals\n",
    "    # @return a list of Interval\n",
    "    def merge(self, intervals):\n"
   ]
  },
  {
   "cell_type": "markdown",
   "metadata": {},
   "source": [
    "## Encircle Square"
   ]
  },
  {
   "cell_type": "code",
   "execution_count": null,
   "metadata": {},
   "outputs": [],
   "source": [
    "Print concentric rectangular pattern in a 2d matrix.\n",
    "Let us show you some examples to clarify what we mean.\n",
    "\n",
    "Example 1:\n",
    "\n",
    "Input: A = 4.\n",
    "Output:\n",
    "\n",
    "4 4 4 4 4 4 4 \n",
    "4 3 3 3 3 3 4 \n",
    "4 3 2 2 2 3 4 \n",
    "4 3 2 1 2 3 4 \n",
    "4 3 2 2 2 3 4 \n",
    "4 3 3 3 3 3 4 \n",
    "4 4 4 4 4 4 4 \n",
    "Example 2:\n",
    "\n",
    "Input: A = 3.\n",
    "Output:\n",
    "\n",
    "3 3 3 3 3 \n",
    "3 2 2 2 3 \n",
    "3 2 1 2 3 \n",
    "3 2 2 2 3 \n",
    "3 3 3 3 3 \n",
    "The outermost rectangle is formed by A, then the next outermost is formed by A-1 and so on.\n",
    "\n",
    "You will be given A as an argument to the function you need to implement, and you need to return a 2D array."
   ]
  },
  {
   "cell_type": "code",
   "execution_count": 2,
   "metadata": {},
   "outputs": [],
   "source": [
    "class Solution:\n",
    "    # @param A : integer\n",
    "    # @return a list of list of integers\n",
    "    def prettyPrint(self, A):\n",
    "        def encircle(arr,n):\n",
    "            l=len(arr)\n",
    "            size=l+2\n",
    "            top=[n for i in range(size)]\n",
    "            arr.insert(0,top)\n",
    "            for i in range(1,len(arr)):\n",
    "                arr[i]=[n]+arr[i]\n",
    "                arr[i].append(n)\n",
    "            arr.append(top)\n",
    "    \n",
    "        op=[[1]]\n",
    "        for i in range(2,A+1):\n",
    "            encircle(op,i)\n",
    "        r=len(op)\n",
    "        for i in range(r):\n",
    "            for j in range(r):\n",
    "                print(op[i][j],end=\" \")\n",
    "            print()"
   ]
  },
  {
   "cell_type": "code",
   "execution_count": 3,
   "metadata": {},
   "outputs": [
    {
     "name": "stdout",
     "output_type": "stream",
     "text": [
      "6\n",
      "6 6 6 6 6 6 6 6 6 6 6 \n",
      "6 5 5 5 5 5 5 5 5 5 6 \n",
      "6 5 4 4 4 4 4 4 4 5 6 \n",
      "6 5 4 3 3 3 3 3 4 5 6 \n",
      "6 5 4 3 2 2 2 3 4 5 6 \n",
      "6 5 4 3 2 1 2 3 4 5 6 \n",
      "6 5 4 3 2 2 2 3 4 5 6 \n",
      "6 5 4 3 3 3 3 3 4 5 6 \n",
      "6 5 4 4 4 4 4 4 4 5 6 \n",
      "6 5 5 5 5 5 5 5 5 5 6 \n",
      "6 6 6 6 6 6 6 6 6 6 6 \n"
     ]
    }
   ],
   "source": [
    "q=Solution()\n",
    "A=int(input())\n",
    "q.prettyPrint(A)"
   ]
  },
  {
   "cell_type": "markdown",
   "metadata": {},
   "source": [
    "## NumRange"
   ]
  },
  {
   "cell_type": "code",
   "execution_count": null,
   "metadata": {},
   "outputs": [],
   "source": [
    "Given an array of non negative integers A, and a range (B, C),\n",
    "find the number of continuous subsequences in the array which have sum S in the range [B, C] or B <= S <= C\n",
    "\n",
    "Continuous subsequence is defined as all the numbers A[i], A[i + 1], .... A[j]\n",
    "where 0 <= i <= j < size(A)\n",
    "\n",
    "Example :\n",
    "\n",
    "A : [10, 5, 1, 0, 2]\n",
    "(B, C) : (6, 8)\n",
    "ans = 3\n",
    "as [5, 1], [5, 1, 0], [5, 1, 0, 2] are the only 3 continuous subsequence with their sum in the range [6, 8]"
   ]
  },
  {
   "cell_type": "code",
   "execution_count": 3,
   "metadata": {},
   "outputs": [],
   "source": [
    "class Solution:\n",
    "    # @param A : list of integers\n",
    "    # @param B : integer\n",
    "    # @param C : integer\n",
    "    # @return an integer\n",
    "    def numRange(self, A, B, C):\n",
    "        def countSub(arr, n, x): \n",
    "            st = 0\n",
    "            end = 0\n",
    "  \n",
    "            sum = 0\n",
    "            cnt = 0\n",
    "  \n",
    "            while end < n : \n",
    "          \n",
    "                sum += arr[end] \n",
    "  \n",
    "                while (st <= end and sum > x) : \n",
    "                    sum -= arr[st] \n",
    "                    st += 1\n",
    "  \n",
    "                cnt += (end - st + 1) \n",
    "                end += 1\n",
    "            return cnt \n",
    "  \n",
    "        def findSubSumLtoR(arr, n, L, R): \n",
    "      \n",
    "            Rcnt = countSub(arr, n, R) \n",
    "  \n",
    "            Lcnt = countSub(arr, n, L - 1) \n",
    "  \n",
    "            return Rcnt - Lcnt\n",
    "        return findSubSumLtoR(A,len(A),B,C)"
   ]
  },
  {
   "cell_type": "code",
   "execution_count": 5,
   "metadata": {},
   "outputs": [
    {
     "data": {
      "text/plain": [
       "3"
      ]
     },
     "execution_count": 5,
     "metadata": {},
     "output_type": "execute_result"
    }
   ],
   "source": [
    "q=Solution()\n",
    "A = [10, 5, 1, 0, 2]\n",
    "(B, C) = (6, 8)\n",
    "q.numRange(A,B,C)"
   ]
  },
  {
   "cell_type": "code",
   "execution_count": 9,
   "metadata": {},
   "outputs": [],
   "source": [
    "class Solution:\n",
    "    # @param A : list of integers\n",
    "    # @param B : list of integers\n",
    "    # @return a list of integers\n",
    "    def solve(self, A, B):\n",
    "        prefixSum=[A[0]]\n",
    "        l=len(A)\n",
    "        op=[]\n",
    "        for i in range(1,l):\n",
    "            prefixSum.append(prefixSum[-1]+A[i])\n",
    "        print(prefixSum)\n",
    "        for num in B:\n",
    "            i=0\n",
    "            while i<l and prefixSum[i]<=num:\n",
    "                #print(i)\n",
    "                i+=1\n",
    "            op.append(i)\n",
    "        return op"
   ]
  },
  {
   "cell_type": "code",
   "execution_count": 10,
   "metadata": {},
   "outputs": [
    {
     "name": "stdout",
     "output_type": "stream",
     "text": [
      "[23, 59, 117, 176]\n"
     ]
    },
    {
     "data": {
      "text/plain": [
       "[0, 4, 2, 4, 4, 4, 4]"
      ]
     },
     "execution_count": 10,
     "metadata": {},
     "output_type": "execute_result"
    }
   ],
   "source": [
    "q=Solution()\n",
    "A=[23,36,58,59]\n",
    "B=[3,207,62,654,939,680,760]\n",
    "q.solve(A,B)"
   ]
  },
  {
   "cell_type": "markdown",
   "metadata": {},
   "source": [
    "## Rain Water Trapped"
   ]
  },
  {
   "cell_type": "code",
   "execution_count": null,
   "metadata": {},
   "outputs": [],
   "source": [
    "Problem Description\n",
    "\n",
    "Given an integer array A of non-negative integers representing an elevation map where the width \n",
    "of each bar is 1, compute how much water it is able to trap after raining.\n",
    "\n",
    "\n",
    "\n",
    "Problem Constraints\n",
    "1 <= |A| <= 100000\n",
    "\n",
    "\n",
    "\n",
    "Input Format\n",
    "The only argument given is integer array A.\n",
    "\n",
    "\n",
    "\n",
    "Output Format\n",
    "Return the total water it is able to trap after raining.\n",
    "\n",
    "\n",
    "\n",
    "Example Input\n",
    "Input 1:\n",
    "\n",
    " A = [0, 1, 0, 2, 1, 0, 1, 3, 2, 1, 2, 1]\n",
    "Input 2:\n",
    "\n",
    " A = [1, 2]\n",
    "\n",
    "\n",
    "Example Output\n",
    "Output 1:\n",
    "\n",
    " 6\n",
    "Output 2:\n",
    "\n",
    " 0\n",
    "\n",
    "\n",
    "Example Explanation\n",
    "Explanation 1:\n",
    "\n",
    " \n",
    " In this case, 6 units of rain water (blue section) are being trapped.\n",
    "Explanation 2:\n",
    "\n",
    " No water is trapped.\n"
   ]
  },
  {
   "cell_type": "code",
   "execution_count": 20,
   "metadata": {},
   "outputs": [],
   "source": [
    "class Solution:\n",
    "    # @param A : tuple of integers\n",
    "    # @return an integer\n",
    "    def trap(self, A):\n",
    "        l=len(A)\n",
    "        maxFromLeft=[0 for i in range(l)]\n",
    "        tempMax=0\n",
    "        for i in range(l):\n",
    "            tempMax=max(A[i],tempMax)\n",
    "            maxFromLeft[i]=tempMax\n",
    "        maxFromRight=[0 for i in range(l)]\n",
    "        tempMax=0\n",
    "        for i in range(l-1,-1,-1):\n",
    "            tempMax=max(A[i],tempMax)\n",
    "            maxFromRight[i]=tempMax\n",
    "        trappedWater=0\n",
    "        #print(maxFromLeft,maxFromRight)\n",
    "        for i in range(l):\n",
    "            boundary=min(maxFromLeft[i],maxFromRight[i])\n",
    "            trappedWater+=(boundary-A[i])\n",
    "        return trappedWater"
   ]
  },
  {
   "cell_type": "code",
   "execution_count": 22,
   "metadata": {},
   "outputs": [
    {
     "name": "stdout",
     "output_type": "stream",
     "text": [
      "[1, 2] [2, 2]\n"
     ]
    },
    {
     "data": {
      "text/plain": [
       "0"
      ]
     },
     "execution_count": 22,
     "metadata": {},
     "output_type": "execute_result"
    }
   ],
   "source": [
    "q=Solution()\n",
    "A = [1, 2]\n",
    "q.trap(A)"
   ]
  },
  {
   "cell_type": "markdown",
   "metadata": {},
   "source": [
    "## Sum of all odd length subarray"
   ]
  },
  {
   "cell_type": "code",
   "execution_count": null,
   "metadata": {},
   "outputs": [],
   "source": [
    "arr = [1,4,2,5,3]\n",
    "l=len(arr)\n",
    "subarraySum=0\n",
    "for size in range(1,l+1,2):\n",
    "    for start in range(l-size+1):\n",
    "        subarr=arr[start:start+size]\n",
    "        #print(subarr)\n",
    "        subarraySum+=sum(subarr)"
   ]
  },
  {
   "cell_type": "code",
   "execution_count": null,
   "metadata": {},
   "outputs": [],
   "source": [
    "Input: arr = [1,4,2,5,3]\n",
    "Output: 58\n",
    "Explanation: The odd-length subarrays of arr and their sums are:\n",
    "[1] = 1\n",
    "[4] = 4\n",
    "[2] = 2\n",
    "[5] = 5\n",
    "[3] = 3\n",
    "[1,4,2] = 7\n",
    "[4,2,5] = 11\n",
    "[2,5,3] = 10\n",
    "[1,4,2,5,3] = 15\n",
    "If we add all these together we get 1 + 4 + 2 + 5 + 3 + 7 + 11 + 10 + 15 = 58"
   ]
  }
 ],
 "metadata": {
  "kernelspec": {
   "display_name": "Python 3",
   "language": "python",
   "name": "python3"
  },
  "language_info": {
   "codemirror_mode": {
    "name": "ipython",
    "version": 3
   },
   "file_extension": ".py",
   "mimetype": "text/x-python",
   "name": "python",
   "nbconvert_exporter": "python",
   "pygments_lexer": "ipython3",
   "version": "3.8.5"
  }
 },
 "nbformat": 4,
 "nbformat_minor": 4
}
