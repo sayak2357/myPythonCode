{
 "cells": [
  {
   "cell_type": "markdown",
   "metadata": {},
   "source": [
    "## Largest Continuous Sequence Zero Sum"
   ]
  },
  {
   "cell_type": "code",
   "execution_count": null,
   "metadata": {},
   "outputs": [],
   "source": [
    "Find the largest continuous sequence in a array which sums to zero.\n",
    "\n",
    "Example:\n",
    "\n",
    "\n",
    "Input:  {1 ,2 ,-2 ,4 ,-4}\n",
    "Output: {2 ,-2 ,4 ,-4}"
   ]
  },
  {
   "cell_type": "code",
   "execution_count": null,
   "metadata": {},
   "outputs": [],
   "source": [
    "class Solution:\n",
    "    # @param A : list of integers\n",
    "    # @return a list of integers\n",
    "    def lszero(self, A):\n",
    "        prefixSum=[0]\n",
    "        l=len(A)\n",
    "        for i in range(l):\n",
    "            temp=prefixSum[-1]+A[i]\n",
    "            prefixSum.append(temp)\n",
    "        psumDict={}\n",
    "        maxLen=0\n",
    "        startIndex=-1\n",
    "        endIndex=-1\n",
    "        for i in range(l+1):\n",
    "            val=prefixSum[i]\n",
    "            if val in psumDict:\n",
    "                length=i-psumDict[val]\n",
    "                if length>maxLen:\n",
    "                    maxLen=length\n",
    "                    startIndex=psumDict[val]\n",
    "                    endIndex=i-1\n",
    "            else:\n",
    "                psumDict[val]=i\n",
    "        return A[startIndex:endIndex+1]"
   ]
  },
  {
   "cell_type": "code",
   "execution_count": null,
   "metadata": {},
   "outputs": [],
   "source": [
    "q=Solution()\n",
    "A=[1 ,2 ,-2 ,4 ,-4]\n",
    "q.lszero(A)"
   ]
  },
  {
   "cell_type": "markdown",
   "metadata": {},
   "source": [
    "## 2 Sum"
   ]
  },
  {
   "cell_type": "code",
   "execution_count": null,
   "metadata": {},
   "outputs": [],
   "source": [
    "Given an array of integers, find two numbers such that they add up to a specific target number.\n",
    "\n",
    "The function twoSum should return indices of the two numbers such that they add up to the target, where \n",
    "index1 < index2. Please note that your returned answers (both index1 and index2 ) are not zero-based.\n",
    "Put both these numbers in order in an array and return the array from your function \n",
    "( Looking at the function signature will make things clearer ). Note that, if no pair exists, return empty list.\n",
    "\n",
    "If multiple solutions exist, output the one where index2 is minimum. \n",
    "If there are multiple solutions with the minimum index2, choose the one with minimum index1 out of them.\n",
    "\n",
    "Input: [2, 7, 11, 15], target=9\n",
    "Output: index1 = 1, index2 = 2"
   ]
  },
  {
   "cell_type": "code",
   "execution_count": null,
   "metadata": {},
   "outputs": [],
   "source": [
    "class Solution:\n",
    "    # @param A : tuple of integers\n",
    "    # @param B : integer\n",
    "    # @return a list of integers\n",
    "    def twoSum(self, A, B):\n",
    "        hashMap={}\n",
    "        l=len(A)\n",
    "        for i in range(l):\n",
    "            if A[i] not in hashMap:\n",
    "                hashMap[A[i]]=[i]\n",
    "            else:\n",
    "                hashMap[A[i]].append(i)\n",
    "        import math\n",
    "        index1=math.inf\n",
    "        index2=math.inf\n",
    "        flag=0\n",
    "        for i in range(l):\n",
    "            num=A[i]\n",
    "            pair=B-num\n",
    "            if num==pair:\n",
    "                if num in hashMap:\n",
    "                    if len(hashMap[pair])>1:\n",
    "                        ind1=i+1\n",
    "                        ind2=hashMap[pair][1]+1\n",
    "                        if ind1<ind2:\n",
    "                            if ind2<index2:\n",
    "                                index2=ind2\n",
    "                                index1=ind1\n",
    "                                flag=1\n",
    "                            elif ind2==index2:\n",
    "                                if ind1<index1:\n",
    "                                    index1=ind1\n",
    "            else:\n",
    "                if pair in hashMap:\n",
    "                    ind1=i+1\n",
    "                    ind2=hashMap[pair][0]+1\n",
    "                    if ind1<ind2:\n",
    "                        if ind2<index2:\n",
    "                            index2=ind2\n",
    "                            index1=ind1\n",
    "                            flag=1\n",
    "                        elif ind2==index2:\n",
    "                            if ind1<index1:\n",
    "                                index1=ind1\n",
    "            #print(index1,index2)\n",
    "        if flag==0:\n",
    "            return []\n",
    "        return [index1,index2]"
   ]
  },
  {
   "cell_type": "code",
   "execution_count": null,
   "metadata": {},
   "outputs": [],
   "source": [
    "q=Solution()\n",
    "A=[2, 7, 11, 15]\n",
    "B=9\n",
    "q.twoSum(A,B)"
   ]
  },
  {
   "cell_type": "code",
   "execution_count": null,
   "metadata": {},
   "outputs": [],
   "source": [
    "q=Solution()\n",
    "A = [ 4, 7, -4, 2, 2, 2, 3, -5, -3, 9, -4, 9, -7, 7, -1, 9, 9, 4, 1, -4, -2, 3, -3, -5, 4, -7, 7, 9, -4, 4, -8 ]\n",
    "B = -3\n",
    "q.twoSum(A,B)"
   ]
  },
  {
   "cell_type": "code",
   "execution_count": null,
   "metadata": {},
   "outputs": [],
   "source": [
    "q=Solution()\n",
    "A = [ 1, 1, 1 ]\n",
    "B = 2\n",
    "q.twoSum(A,B)"
   ]
  },
  {
   "cell_type": "code",
   "execution_count": null,
   "metadata": {},
   "outputs": [],
   "source": [
    "Your function returned the following :\n",
    "inf inf \n",
    "The expected returned value :\n",
    "1 2 "
   ]
  },
  {
   "cell_type": "markdown",
   "metadata": {},
   "source": [
    "## DIfference"
   ]
  },
  {
   "cell_type": "code",
   "execution_count": null,
   "metadata": {},
   "outputs": [],
   "source": [
    "Given an array A of integers and another non negative integer k, find if there exists 2 indices i and j \n",
    "such that A[i] - A[j] = k, i != j.\n",
    "\n",
    "Example :\n",
    "\n",
    "Input :\n",
    "\n",
    "A : [1 5 3]\n",
    "k : 2\n",
    "Output :\n",
    "\n",
    "1\n",
    "as 3 - 1 = 2\n",
    "\n",
    "Return 0 / 1 for this problem."
   ]
  },
  {
   "cell_type": "code",
   "execution_count": null,
   "metadata": {},
   "outputs": [],
   "source": [
    "class Solution:\n",
    "    # @param A : tuple of integers\n",
    "    # @param B : integer\n",
    "    # @return an integer\n",
    "    def diffPossible(self, A, B):\n",
    "        countMap={}\n",
    "        indexMap={}\n",
    "        l=len(A)\n",
    "        for i in range(l):\n",
    "            num=A[i]\n",
    "            if num in countMap:\n",
    "                countMap[num]+=1\n",
    "            else:\n",
    "                countMap[num]=1\n",
    "            indexMap[num]=i\n",
    "        for i in range(l):\n",
    "            Ai=A[i]\n",
    "            Aj=Ai-B\n",
    "            if Ai==Aj:\n",
    "                if countMap[Ai]>1:\n",
    "                    return 1\n",
    "            else:\n",
    "                if Aj in indexMap:\n",
    "                    return 1\n",
    "        return 0"
   ]
  },
  {
   "cell_type": "code",
   "execution_count": null,
   "metadata": {},
   "outputs": [],
   "source": [
    "q=Solution()\n",
    "A = [1 ,5, 3]\n",
    "k = 2\n",
    "q.diffPossible(A,k)"
   ]
  },
  {
   "cell_type": "markdown",
   "metadata": {},
   "source": [
    "## Two out of Three"
   ]
  },
  {
   "cell_type": "code",
   "execution_count": null,
   "metadata": {},
   "outputs": [],
   "source": [
    "Problem Description\n",
    "\n",
    "Given are Three arrays A, B and C.\n",
    "\n",
    "Return the sorted list of numbers that are present in atleast 2 out of the 3 arrays.\n",
    "\n",
    "\n",
    "\n",
    "Problem Constraints\n",
    "1 <= |A|, |B|, |C| <= 100000\n",
    "\n",
    "1 <= A[i], B[i], C[i] <= 100000\n",
    "\n",
    "A, B, C may or may not have pairwise distinct elements.\n",
    "\n",
    "\n",
    "\n",
    "Input Format\n",
    "First argument is the array A.\n",
    "\n",
    "First argument is the array B.\n",
    "\n",
    "First argument is the array C.\n",
    "\n",
    "\n",
    "\n",
    "Output Format\n",
    "Return a sorted array of numbers.\n",
    "\n",
    "\n",
    "\n",
    "Example Input\n",
    "Input 1:\n",
    "\n",
    "A = [1, 1, 2]\n",
    "B = [2, 3]\n",
    "C = [3]\n",
    "Input 2:\n",
    "\n",
    "A = [1, 2]\n",
    "B = [1, 3]\n",
    "C = [2, 3]\n",
    "\n",
    "\n",
    "Example Output\n",
    "Output 1:\n",
    "\n",
    "[2, 3]\n",
    "Output 2:\n",
    "\n",
    "[1, 2, 3]\n",
    "\n",
    "\n",
    "Example Explanation\n",
    "Explanation 1:\n",
    "\n",
    "1 is only present in A. 2 is present in A and B. 3 is present in B and C.\n",
    "Explanation 2:\n",
    "\n",
    "All numbers are present in atleast 2 out of 3 lists.\n"
   ]
  },
  {
   "cell_type": "code",
   "execution_count": null,
   "metadata": {},
   "outputs": [],
   "source": [
    "class Solution:\n",
    "    # @param A : list of integers\n",
    "    # @param B : list of integers\n",
    "    # @param C : list of integers\n",
    "    # @return a list of integers\n",
    "    def solve(self, A, B, C):\n",
    "        hashMap={}\n",
    "        A.sort()\n",
    "        B.sort()\n",
    "        C.sort()\n",
    "        l=len(A)\n",
    "        for i in range(l):\n",
    "            if i>0:\n",
    "                if A[i]>A[i-1]:\n",
    "                    if A[i] in hashMap:\n",
    "                        hashMap[A[i]]+=1\n",
    "                    else:\n",
    "                        hashMap[A[i]]=1\n",
    "            else:\n",
    "                if A[i] in hashMap:\n",
    "                    hashMap[A[i]]+=1\n",
    "                else:\n",
    "                    hashMap[A[i]]=1\n",
    "        l=len(B)\n",
    "        for i in range(l):\n",
    "            if i>0:\n",
    "                if B[i]>B[i-1]:\n",
    "                    if B[i] in hashMap:\n",
    "                        hashMap[B[i]]+=1\n",
    "                    else:\n",
    "                        hashMap[B[i]]=1\n",
    "            else:\n",
    "                if B[i] in hashMap:\n",
    "                    hashMap[B[i]]+=1\n",
    "                else:\n",
    "                    hashMap[B[i]]=1\n",
    "        l=len(C)\n",
    "        for i in range(l):\n",
    "            if i>0:\n",
    "                if C[i]>C[i-1]:\n",
    "                    if C[i] in hashMap:\n",
    "                        hashMap[C[i]]+=1\n",
    "                    else:\n",
    "                        hashMap[C[i]]=1\n",
    "            else:\n",
    "                if C[i] in hashMap:\n",
    "                    hashMap[C[i]]+=1\n",
    "                else:\n",
    "                    hashMap[C[i]]=1\n",
    "        #print(hashMap)\n",
    "        op=[]\n",
    "        for num in hashMap:\n",
    "            if hashMap[num]>1:\n",
    "                op.append(num)\n",
    "        op.sort()\n",
    "        return op"
   ]
  },
  {
   "cell_type": "code",
   "execution_count": null,
   "metadata": {},
   "outputs": [],
   "source": [
    "q=Solution()\n",
    "A = [1, 1, 2]\n",
    "B = [2, 3,3,3,3]\n",
    "C = [1]\n",
    "q.solve(A,B,C)"
   ]
  },
  {
   "cell_type": "markdown",
   "metadata": {},
   "source": [
    "## Count of Pairs with given XOR"
   ]
  },
  {
   "cell_type": "code",
   "execution_count": null,
   "metadata": {},
   "outputs": [],
   "source": [
    "Given an 1D integer array A containing N distinct integers.\n",
    "\n",
    "Find the number of unique pairs of integers in the array whose XOR is equal to B.\n",
    "\n",
    "NOTE:\n",
    "\n",
    "Pair (a, b) and (b, a) is considered to be same and should be counted once.\n",
    "\n",
    "\n",
    "Problem Constraints\n",
    "1 <= N <= 105\n",
    "\n",
    "1 <= A[i], B <= 107\n",
    "\n",
    "\n",
    "\n",
    "Input Format\n",
    "First argument is an 1D integer array A.\n",
    "\n",
    "Second argument is an integer B.\n",
    "\n",
    "\n",
    "\n",
    "Output Format\n",
    "Return a single integer denoting the number of unique pairs of integers in the array A whose XOR is equal to B.\n",
    "\n",
    "\n",
    "\n",
    "Example Input\n",
    "Input 1:\n",
    "\n",
    " A = [5, 4, 10, 15, 7, 6]\n",
    " B = 5\n",
    "Input 2:\n",
    "\n",
    " A = [3, 6, 8, 10, 15, 50]\n",
    " B = 5\n",
    "\n",
    "\n",
    "Example Output\n",
    "Output 1:\n",
    "\n",
    " 1\n",
    "Output 2:\n",
    "\n",
    " 2\n",
    "\n",
    "\n",
    "Example Explanation\n",
    "Explanation 1:\n",
    "\n",
    " (10 ^ 15) = 5\n",
    "Explanation 2:\n",
    "\n",
    " (3 ^ 6) = 5 and (10 ^ 15) = 5 \n"
   ]
  },
  {
   "cell_type": "code",
   "execution_count": null,
   "metadata": {},
   "outputs": [],
   "source": [
    "class Solution:\n",
    "    # @param A : list of integers\n",
    "    # @param B : integer\n",
    "    # @return an integer\n",
    "    def solve(self, A, B):\n",
    "        pairMap={}\n",
    "        hashMap={}\n",
    "        l=len(A)\n",
    "        count=0\n",
    "        for i in range(l):\n",
    "            hashMap[A[i]]=1\n",
    "        for i in range(l):\n",
    "            p=B^A[i]\n",
    "            if p in hashMap:\n",
    "                temp=(min(A[i],p),max(A[i],p))\n",
    "                if temp not in pairMap:\n",
    "                    count+=1\n",
    "                    pairMap[temp]=1\n",
    "        return count"
   ]
  },
  {
   "cell_type": "code",
   "execution_count": null,
   "metadata": {},
   "outputs": [],
   "source": [
    "q=Solution()\n",
    "A = [3, 6, 8, 10, 15, 50]\n",
    "B = 5\n",
    "q.solve(A,B)"
   ]
  },
  {
   "cell_type": "markdown",
   "metadata": {},
   "source": [
    "## Anagrams"
   ]
  },
  {
   "cell_type": "code",
   "execution_count": null,
   "metadata": {},
   "outputs": [],
   "source": [
    "Given an array of strings, return all groups of strings that are anagrams. Represent a group by a \n",
    "list of integers representing the index in the original list. Look at the sample case for clarification.\n",
    "\n",
    " Anagram : a word, phrase, or name formed by rearranging the letters of another, such as 'spar', \n",
    "        formed from 'rasp' \n",
    " Note: All inputs will be in lower-case. \n",
    "Example :\n",
    "\n",
    "Input : cat dog god tca\n",
    "Output : [[1, 4], [2, 3]]\n",
    "cat and tca are anagrams which correspond to index 1 and 4.\n",
    "dog and god are another set of anagrams which correspond to index 2 and 3.\n",
    "The indices are 1 based ( the first element has index 1 instead of index 0)."
   ]
  },
  {
   "cell_type": "code",
   "execution_count": null,
   "metadata": {},
   "outputs": [],
   "source": [
    "class Solution:\n",
    "    # @param A : tuple of strings\n",
    "    # @return a list of list of integers\n",
    "    def anagrams(self, A):\n",
    "        def minString(string):\n",
    "            ls=list(string)\n",
    "            ls.sort()\n",
    "            return \"\".join(ls)\n",
    "        hashMap={}\n",
    "        unAnL=[]\n",
    "        for i in range(len(A)):\n",
    "            ms=minString(A[i])\n",
    "            if ms in hashMap:\n",
    "                hashMap[ms].append(i+1)\n",
    "            else:\n",
    "                hashMap[ms]=[i+1]\n",
    "                unAnL.append(ms)\n",
    "        op=[]\n",
    "        for string in unAnL:\n",
    "            op.append(hashMap[string])\n",
    "        return op"
   ]
  },
  {
   "cell_type": "code",
   "execution_count": null,
   "metadata": {},
   "outputs": [],
   "source": [
    "q=Solution()\n",
    "A=[\"cat\",\"dog\",\"god\",\"tca\"]\n",
    "q.anagrams(A)"
   ]
  },
  {
   "cell_type": "markdown",
   "metadata": {},
   "source": [
    "## Longest Substring Without Repeat"
   ]
  },
  {
   "cell_type": "code",
   "execution_count": null,
   "metadata": {},
   "outputs": [],
   "source": [
    "Given a string,\n",
    "find the length of the longest substring without repeating characters.\n",
    "\n",
    "Example:\n",
    "\n",
    "The longest substring without repeating letters for \"abcabcbb\" is \"abc\", which the length is 3.\n",
    "\n",
    "For \"bbbbb\" the longest substring is \"b\", with the length of 1."
   ]
  },
  {
   "cell_type": "code",
   "execution_count": 5,
   "metadata": {},
   "outputs": [],
   "source": [
    "class Solution:\n",
    "    # @param A : string\n",
    "    # @return an integer\n",
    "    def lengthOfLongestSubstring(self, A):\n",
    "        l=len(A)\n",
    "        start=0\n",
    "        end=0\n",
    "        maxLen=0\n",
    "        windowDict={}\n",
    "        for end in range(l):\n",
    "            if A[end] in windowDict:\n",
    "                start=max(start,windowDict[A[end]]+1)\n",
    "            windowDict[A[end]]=end\n",
    "            maxLen=max(maxLen,end-start+1)\n",
    "        return maxLen"
   ]
  },
  {
   "cell_type": "code",
   "execution_count": 6,
   "metadata": {},
   "outputs": [
    {
     "data": {
      "text/plain": [
       "3"
      ]
     },
     "execution_count": 6,
     "metadata": {},
     "output_type": "execute_result"
    }
   ],
   "source": [
    "q=Solution()\n",
    "A=\"abcabcbb\"\n",
    "q.lengthOfLongestSubstring(A)"
   ]
  },
  {
   "cell_type": "markdown",
   "metadata": {},
   "source": [
    "## Fraction"
   ]
  },
  {
   "cell_type": "code",
   "execution_count": null,
   "metadata": {},
   "outputs": [],
   "source": [
    "Given two integers representing the numerator and denominator of a fraction, return the fraction in string format.\n",
    "\n",
    "If the fractional part is repeating, enclose the repeating part in parentheses.\n",
    "\n",
    "Example :\n",
    "\n",
    "Given numerator = 1, denominator = 2, return \"0.5\"\n",
    "Given numerator = 2, denominator = 1, return \"2\"\n",
    "Given numerator = 2, denominator = 3, return \"0.(6)\""
   ]
  },
  {
   "cell_type": "code",
   "execution_count": 66,
   "metadata": {},
   "outputs": [],
   "source": [
    "class Solution:\n",
    "    # @param A : integer\n",
    "    # @param B : integer\n",
    "    # @return a strings\n",
    "    def fractionToDecimal(self, A, B):\n",
    "        op=A/B\n",
    "        print(op)\n",
    "        if A==0:\n",
    "            return \"0\"\n",
    "        string=str(op)\n",
    "        newOp=string[0]\n",
    "        l=len(string)\n",
    "        flag=0\n",
    "        for i in range(1,l):\n",
    "            char=string[i]\n",
    "            if char==\".\":\n",
    "                flag=1\n",
    "                newOp+=char\n",
    "            if flag==0:\n",
    "                newOp+=char\n",
    "            else:\n",
    "                if char!=\".\":\n",
    "                    if i<l-1:\n",
    "                        if char==string[i+1]:\n",
    "                            newOp=newOp+\"(\"+char+\")\"\n",
    "                            break\n",
    "                    else:\n",
    "                        newOp+=char\n",
    "        modNewOp=newOp.rstrip(\"0\")\n",
    "        l=len(modNewOp)\n",
    "        if modNewOp[l-1]==\".\":\n",
    "             modNewOp=modNewOp[:l-1]\n",
    "        return modNewOp"
   ]
  },
  {
   "cell_type": "code",
   "execution_count": 67,
   "metadata": {},
   "outputs": [
    {
     "name": "stdout",
     "output_type": "stream",
     "text": [
      "1\n",
      "2147483648\n",
      "4.656612873077393e-10\n"
     ]
    },
    {
     "data": {
      "text/plain": [
       "'4.(6)'"
      ]
     },
     "execution_count": 67,
     "metadata": {},
     "output_type": "execute_result"
    }
   ],
   "source": [
    "q=Solution()\n",
    "A=int(input())\n",
    "B=int(input())\n",
    "q.fractionToDecimal(A,B)"
   ]
  },
  {
   "cell_type": "markdown",
   "metadata": {},
   "source": [
    "## Longest Consecutive Sequence"
   ]
  },
  {
   "cell_type": "code",
   "execution_count": null,
   "metadata": {},
   "outputs": [],
   "source": [
    "Given an unsorted array of integers, find the length of the longest consecutive elements sequence.\n",
    "\n",
    "Example:\n",
    "Given [100, 4, 200, 1, 3, 2],\n",
    "The longest consecutive elements sequence is [1, 2, 3, 4]. Return its length: 4.\n",
    "\n",
    "Your algorithm should run in O(n) complexity."
   ]
  },
  {
   "cell_type": "code",
   "execution_count": 1,
   "metadata": {},
   "outputs": [],
   "source": [
    "class Solution:\n",
    "    # @param A : tuple of integers\n",
    "    # @return an integer\n",
    "    def longestConsecutive(self, A):\n",
    "        l=len(A)\n",
    "        hashMap={}\n",
    "        firstNum={}\n",
    "        for num in A:\n",
    "            hashMap[num]=1\n",
    "        for i in range(l):\n",
    "            num=A[i]\n",
    "            prev=num-1\n",
    "            if prev not in hashMap:\n",
    "                firstNum[num]=1\n",
    "        maxLen=0\n",
    "        for num in firstNum:\n",
    "            count=1\n",
    "            nextN=num+1\n",
    "            while nextN in hashMap:\n",
    "                count+=1\n",
    "                nextN+=1\n",
    "            maxLen=max(maxLen,count)\n",
    "        return maxLen\n",
    "        \n"
   ]
  },
  {
   "cell_type": "code",
   "execution_count": 2,
   "metadata": {},
   "outputs": [
    {
     "data": {
      "text/plain": [
       "4"
      ]
     },
     "execution_count": 2,
     "metadata": {},
     "output_type": "execute_result"
    }
   ],
   "source": [
    "q=Solution()\n",
    "A=[100, 4, 200, 1, 3, 2]\n",
    "q.longestConsecutive(A)"
   ]
  },
  {
   "cell_type": "markdown",
   "metadata": {},
   "source": [
    "## Letter Possibilities"
   ]
  },
  {
   "cell_type": "code",
   "execution_count": null,
   "metadata": {},
   "outputs": [],
   "source": [
    "You have n  tiles, where each tile has one letter tiles[i] printed on it.\n",
    "\n",
    "Return the number of possible non-empty sequences of letters you can make using the letters \n",
    "printed on those tiles.\n",
    "\n",
    " \n",
    "\n",
    "Example 1:\n",
    "\n",
    "Input: tiles = \"AAB\"\n",
    "Output: 8\n",
    "Explanation: The possible sequences are \"A\", \"B\", \"AA\", \"AB\", \"BA\", \"AAB\", \"ABA\", \"BAA\".\n",
    "Example 2:\n",
    "\n",
    "Input: tiles = \"AAABBC\"\n",
    "Output: 188\n",
    "Example 3:\n",
    "\n",
    "Input: tiles = \"V\"\n",
    "Output: 1"
   ]
  },
  {
   "cell_type": "code",
   "execution_count": null,
   "metadata": {},
   "outputs": [],
   "source": [
    "class Solution:\n",
    "    def numTilePossibilities(self, tiles: str) -> int:\n",
    "        def allPermutation(length,d,index,op):\n",
    "            if index==length:\n",
    "                nonlocal ans\n",
    "                ans.append(op)\n",
    "                return\n",
    "            for char in d:\n",
    "                if d[char]>0:\n",
    "                    op2=op+char\n",
    "                    d[char]-=1\n",
    "                    allPermutation(length,d,index+1,op2)\n",
    "                    d[char]+=1\n",
    "        \n",
    "        l=len(tiles)\n",
    "        hashMap={}\n",
    "        for char in tiles:\n",
    "            if char not in hashMap:\n",
    "                hashMap[char]=1\n",
    "            else:\n",
    "                hashMap[char]+=1\n",
    "        masterOp=[]\n",
    "        for i in range(1,l+1):\n",
    "            ans=[]\n",
    "            allPermutation(i,hashMap,0,\"\")\n",
    "            masterOp+=ans\n",
    "            #print(masterOp)\n",
    "        return len(masterOp)"
   ]
  }
 ],
 "metadata": {
  "kernelspec": {
   "display_name": "Python 3",
   "language": "python",
   "name": "python3"
  },
  "language_info": {
   "codemirror_mode": {
    "name": "ipython",
    "version": 3
   },
   "file_extension": ".py",
   "mimetype": "text/x-python",
   "name": "python",
   "nbconvert_exporter": "python",
   "pygments_lexer": "ipython3",
   "version": "3.8.5"
  }
 },
 "nbformat": 4,
 "nbformat_minor": 4
}
