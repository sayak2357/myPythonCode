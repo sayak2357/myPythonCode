{
 "cells": [
  {
   "cell_type": "markdown",
   "metadata": {},
   "source": [
    "## Vowel and Consonant Substrings!"
   ]
  },
  {
   "cell_type": "code",
   "execution_count": null,
   "metadata": {},
   "outputs": [],
   "source": [
    "Problem Description\n",
    "\n",
    "Given a string A consisting of lowercase characters.\n",
    "\n",
    "You have to find the number of substrings in A which starts with vowel and end with consonants or vice-versa.\n",
    "\n",
    "Return the count of substring modulo 109 + 7.\n",
    "\n",
    "\n",
    "\n",
    "Problem Constraints\n",
    "1 <= |A| <= 105\n",
    "\n",
    "A consists only of lower-case characters.\n",
    "\n",
    "\n",
    "\n",
    "Input Format\n",
    "First argument is an string A.\n",
    "\n",
    "\n",
    "\n",
    "Output Format\n",
    "Return a integer denoting the the number of substrings in A which starts with vowel and \n",
    "end with consonants or vice-versa with modulo 109 + 7.\n",
    "\n",
    "\n",
    "\n",
    "Example Input\n",
    "Input 1:\n",
    "\n",
    " A = \"aba\"\n",
    "Input 2:\n",
    "\n",
    " A = \"a\"\n",
    "\n",
    "\n",
    "Example Output\n",
    "Output 1:\n",
    "\n",
    " 2\n",
    "Output 2:\n",
    "\n",
    " 0\n",
    "\n",
    "\n",
    "Example Explanation\n",
    "Explanation 1:\n",
    "\n",
    " Substrings of S are : [a, ab, aba, b, ba, a]Out of these only 'ab' and 'ba' satisfy \n",
    "    the condition for special Substring. So the answer is 2.\n",
    "Explanation 2:\n",
    "\n",
    " No possible substring that start with vowel and end with consonant or vice-versa."
   ]
  },
  {
   "cell_type": "code",
   "execution_count": null,
   "metadata": {},
   "outputs": [],
   "source": [
    "class Solution:\n",
    "    # @param A : string\n",
    "    # @return an integer\n",
    "    def solve(self, A):\n",
    "        l=len(A)\n",
    "        ls=list(A)\n",
    "        vowels=['a','e','i','o','u']\n",
    "        ct=0\n",
    "        vowelsOnRight=[0 for i in range(l)]\n",
    "        consOnRight=[0 for i in range(l)]\n",
    "        ct=0\n",
    "        for i in range(l-1,-1,-1):\n",
    "            vowelsOnRight[i]=ct\n",
    "            if ls[i] in vowels:\n",
    "                ct+=1\n",
    "        ct=0\n",
    "        for i in range(l-1,-1,-1):\n",
    "            consOnRight[i]=ct\n",
    "            if ls[i] not in vowels:\n",
    "                ct+=1\n",
    "        ct=0\n",
    "        for i in range(l):\n",
    "            if ls[i] in vowels:\n",
    "                ct+=consOnRight[i]\n",
    "            else:\n",
    "                ct+=vowelsOnRight[i]\n",
    "        return ct\n",
    "                \n"
   ]
  },
  {
   "cell_type": "code",
   "execution_count": null,
   "metadata": {},
   "outputs": [],
   "source": [
    "q=Solution()\n",
    "A='a'\n",
    "q.solve(A)"
   ]
  },
  {
   "cell_type": "markdown",
   "metadata": {},
   "source": [
    "## Remove Consecutive Characters"
   ]
  },
  {
   "cell_type": "code",
   "execution_count": null,
   "metadata": {},
   "outputs": [],
   "source": [
    "Problem Description\n",
    "\n",
    "Given a string A and integer B, remove all consecutive same characters that have length exactly B.\n",
    "\n",
    "\n",
    "\n",
    "Problem Constraints\n",
    "1 <= |A| <= 100000\n",
    "\n",
    "1 <= B <= |A|\n",
    "\n",
    "\n",
    "\n",
    "Input Format\n",
    "First Argument is string A.\n",
    "\n",
    "Second argument is integer B.\n",
    "\n",
    "\n",
    "\n",
    "Output Format\n",
    "Return a string after doing the removals.\n",
    "\n",
    "\n",
    "\n",
    "Example Input\n",
    "Input 1:\n",
    "\n",
    "A = \"aabcd\"\n",
    "B = 2\n",
    "Input 2:\n",
    "\n",
    "A = \"aabbccd\"\n",
    "B = 2\n",
    "\n",
    "\n",
    "Example Output\n",
    "Output 1:\n",
    "\n",
    " \"bcd\"\n",
    "Output 2:\n",
    "\n",
    " \"d\"\n",
    "\n",
    "\n",
    "Example Explanation\n",
    "Explanation 1:\n",
    "\n",
    " \"aa\" had length 2.\n",
    "Explanation 2:\n",
    "\n",
    " \"aa\", \"bb\" and \"cc\" had length of 2.\n"
   ]
  },
  {
   "cell_type": "code",
   "execution_count": null,
   "metadata": {},
   "outputs": [],
   "source": [
    "class Solution:\n",
    "    # @param A : string\n",
    "    # @param B : integer\n",
    "    # @return a strings\n",
    "    def solve(self, A, B):\n",
    "        l=len(A)\n",
    "        op=\"\"\n",
    "        pre=A[0]\n",
    "        ct=1\n",
    "        compressed=\"\"\n",
    "        for i in range(1,l):\n",
    "            if A[i]==pre:\n",
    "                ct+=1\n",
    "            else:\n",
    "                compressed=compressed+pre+str(ct)\n",
    "                ct=1\n",
    "                pre=A[i]\n",
    "        compressed+=pre+str(ct)\n",
    "        op=\"\"\n",
    "        for i in range(0,len(compressed),2):\n",
    "            val=compressed[i]\n",
    "            count=int(compressed[i+1])\n",
    "            #print(val,count)\n",
    "            if count!=B:\n",
    "                op+=val*count\n",
    "        return op"
   ]
  },
  {
   "cell_type": "code",
   "execution_count": null,
   "metadata": {},
   "outputs": [],
   "source": [
    "q=Solution()\n",
    "A=input('Enter A:')\n",
    "B=int(input('Enter B:'))\n",
    "q.solve(A,B)"
   ]
  },
  {
   "cell_type": "code",
   "execution_count": null,
   "metadata": {},
   "outputs": [],
   "source": [
    "abcccddeeef"
   ]
  },
  {
   "cell_type": "markdown",
   "metadata": {},
   "source": [
    "## Longest Common Prefix"
   ]
  },
  {
   "cell_type": "code",
   "execution_count": null,
   "metadata": {},
   "outputs": [],
   "source": [
    "Given the array of strings A,\n",
    "you need to find the longest string S which is the prefix of ALL the strings in the array.\n",
    "\n",
    "Longest common prefix for a pair of strings S1 and S2 is the longest string S which is the prefix of both S1\n",
    "and S2.\n",
    "\n",
    "For Example, longest common prefix of \"abcdefgh\" and \"abcefgh\" is \"abc\".\n",
    "\n",
    "\n",
    "\n",
    "Input Format\n",
    "\n",
    "The only argument given is an array of strings A.\n",
    "Output Format\n",
    "\n",
    "Return longest common prefix of all strings in A.\n",
    "For Example\n",
    "\n",
    "Input 1:\n",
    "    A = [\"abcdefgh\", \"aefghijk\", \"abcefgh\"]\n",
    "Output 1:\n",
    "    \"a\"\n",
    "    Explanation 1:\n",
    "        Longest common prefix of all the strings is \"a\".\n",
    "\n",
    "Input 2:\n",
    "    A = [\"abab\", \"ab\", \"abcd\"];\n",
    "Output 2:\n",
    "    \"ab\"\n",
    "    Explanation 2:\n",
    "        Longest common prefix of all the strings is \"ab\".\n"
   ]
  },
  {
   "cell_type": "code",
   "execution_count": null,
   "metadata": {},
   "outputs": [],
   "source": [
    "class Solution:\n",
    "    # @param A : list of strings\n",
    "    # @return a strings\n",
    "    def longestCommonPrefix(self, A):\n",
    "        l=len(A)\n",
    "        stLen=len(A[0])\n",
    "        longestPrefix=\"\"\n",
    "        for i in range(1,stLen+1):\n",
    "            prefix=A[0][:i]\n",
    "            count=0\n",
    "            for val in A:\n",
    "                if val[:i]==prefix:\n",
    "                    count+=1\n",
    "            if count==l:\n",
    "                longestPrefix=prefix\n",
    "            else:\n",
    "                break\n",
    "        return longestPrefix"
   ]
  },
  {
   "cell_type": "code",
   "execution_count": null,
   "metadata": {},
   "outputs": [],
   "source": [
    "q=Solution()\n",
    "A = [\"abab\", \"ab\", \"abad\"]\n",
    "q.longestCommonPrefix(A)"
   ]
  },
  {
   "cell_type": "markdown",
   "metadata": {},
   "source": [
    "## Count & Say"
   ]
  },
  {
   "cell_type": "code",
   "execution_count": null,
   "metadata": {},
   "outputs": [],
   "source": [
    "The count-and-say sequence is the sequence of integers beginning as follows:\n",
    "\n",
    "1, 11, 21, 1211, 111221, ...\n",
    "1 is read off as one 1 or 11.\n",
    "11 is read off as two 1s or 21.\n",
    "\n",
    "21 is read off as one 2, then one 1 or 1211.\n",
    "\n",
    "Given an integer n, generate the nth sequence.\n",
    "\n",
    "Note: The sequence of integers will be represented as a string.\n",
    "\n",
    "Example:\n",
    "\n",
    "if n = 2,\n",
    "the sequence is 11."
   ]
  },
  {
   "cell_type": "code",
   "execution_count": null,
   "metadata": {},
   "outputs": [],
   "source": [
    "class Solution:\n",
    "    # @param A : integer\n",
    "    # @return a strings\n",
    "    def countAndSay(self, A):\n",
    "        a='1'\n",
    "        n=A\n",
    "\n",
    "        for j in range(n-1):\n",
    "            pre=a[0]\n",
    "            ct=1\n",
    "            #print(a)\n",
    "            op=\"\"\n",
    "            for i in range(1,len(a)):\n",
    "                if a[i]==pre:\n",
    "                    ct+=1\n",
    "                else:\n",
    "                    op+=str(ct)+pre\n",
    "                    pre=a[i]\n",
    "                    ct=1\n",
    "            op+=str(ct)+pre\n",
    "            a=op\n",
    "        return a"
   ]
  },
  {
   "cell_type": "code",
   "execution_count": null,
   "metadata": {},
   "outputs": [],
   "source": [
    "q=Solution()\n",
    "q.countAndSay(5)"
   ]
  },
  {
   "cell_type": "markdown",
   "metadata": {},
   "source": [
    "## Compare Version Number"
   ]
  },
  {
   "cell_type": "code",
   "execution_count": null,
   "metadata": {},
   "outputs": [],
   "source": [
    "Compare two version numbers version1 and version2.\n",
    "\n",
    "If version1 > version2 return 1,\n",
    "If version1 < version2 return -1,\n",
    "otherwise return 0.\n",
    "You may assume that the version strings are non-empty and contain only digits and the . character.\n",
    "The . character does not represent a decimal point and is used to separate number sequences.\n",
    "For instance, 2.5 is not \"two and a half\" or \"half way to version three\", \n",
    "it is the fifth second-level revision of the second first-level revision.\n",
    "\n",
    "Here is an example of version numbers ordering:\n",
    "\n",
    "0.1 < 1.1 < 1.2 < 1.13 < 1.13.4"
   ]
  },
  {
   "cell_type": "code",
   "execution_count": null,
   "metadata": {},
   "outputs": [],
   "source": [
    "class Solution:\n",
    "    # @param A : string\n",
    "    # @param B : string\n",
    "    # @return an integer\n",
    "    def compareVersion(self, A, B):\n",
    "        AS=A.split('.')\n",
    "        BS=B.split('.')\n",
    "        AS=[int(x)for x in AS]\n",
    "        BS=[int(x) for x in BS]\n",
    "        flag=0\n",
    "        for i in range(len(AS)-1,-1,-1):\n",
    "            if AS[i]==0 and flag==0:\n",
    "                AS.pop(i)\n",
    "                flag=1\n",
    "            else:\n",
    "                break\n",
    "        flag=0\n",
    "        for i in range(len(BS)-1,-1,-1):\n",
    "            if BS[i]==0 and flag==0:\n",
    "                BS.pop(i)\n",
    "                flag=1\n",
    "            else:\n",
    "                break    \n",
    "        #print(AS,BS)\n",
    "        i=0\n",
    "        while True:\n",
    "            if i>=len(AS) and i<len(BS):\n",
    "                return -1\n",
    "            if i<len(AS) and i>=len(BS):\n",
    "                return 1\n",
    "            if i>=len(AS) and i>=len(BS):\n",
    "                return 0\n",
    "            if AS[i]>BS[i]:\n",
    "                return 1\n",
    "            elif AS[i]<BS[i]:\n",
    "                return -1\n",
    "            else:\n",
    "                i+=1"
   ]
  },
  {
   "cell_type": "code",
   "execution_count": null,
   "metadata": {},
   "outputs": [],
   "source": [
    "q=Solution()\n",
    "A=input()\n",
    "B=input()\n",
    "q.compareVersion(A,B)"
   ]
  },
  {
   "cell_type": "markdown",
   "metadata": {},
   "source": [
    "## ATOI"
   ]
  },
  {
   "cell_type": "code",
   "execution_count": null,
   "metadata": {},
   "outputs": [],
   "source": [
    "Please Note:\n",
    "There are certain questions where the interviewer would intentionally frame the question vague.\n",
    "The expectation is that you will ask the correct set of clarifications or state your assumptions \n",
    "before you jump into coding.\n",
    "\n",
    "Implement atoi to convert a string to an integer.\n",
    "\n",
    "Example :\n",
    "\n",
    "Input : \"9 2704\"\n",
    "Output : 9\n",
    "Note: There might be multiple corner cases here. Clarify all your doubts using “See Expected Output”.\n",
    "\n",
    " Questions: Q1. Does string contain whitespace characters before the number?\n",
    "A. Yes Q2. Can the string have garbage characters after the number?\n",
    "A. Yes. Ignore it. Q3. If no numeric character is found before encountering garbage characters, what should I do?\n",
    "A. Return 0. Q4. What if the integer overflows?\n",
    "A. Return INT_MAX if the number is positive, INT_MIN otherwise. \n"
   ]
  },
  {
   "cell_type": "code",
   "execution_count": null,
   "metadata": {},
   "outputs": [],
   "source": [
    "class Solution:\n",
    "    # @param A : string\n",
    "    # @return an integer\n",
    "    def atoi(self, A):\n",
    "        op=\"\"\n",
    "        l=len(A)\n",
    "        for i in range(l):\n",
    "            if A[i].isdigit():\n",
    "                op+=A[i]\n",
    "            else:\n",
    "                break\n",
    "        if len(op)>0:\n",
    "            return int(op)\n",
    "        else:\n",
    "            return 0"
   ]
  },
  {
   "cell_type": "code",
   "execution_count": null,
   "metadata": {},
   "outputs": [],
   "source": [
    "q=Solution()\n",
    "A=input()\n",
    "q.atoi(A)"
   ]
  },
  {
   "cell_type": "markdown",
   "metadata": {},
   "source": [
    "## Valid Number"
   ]
  },
  {
   "cell_type": "code",
   "execution_count": null,
   "metadata": {},
   "outputs": [],
   "source": [
    "Please think of all the corner cases and clarifications yourself.\n",
    "\n",
    "Validate if a given string is numeric.\n",
    "\n",
    "Examples:\n",
    "\n",
    "\"0\" => true\n",
    "\" 0.1 \" => true\n",
    "\"abc\" => false\n",
    "\"1 a\" => false\n",
    "\"2e10\" => true\n",
    "Return 0 / 1 ( 0 for false, 1 for true ) for this problem\n",
    "\n",
    "Clarify the question using “See Expected Output”\n",
    "\n",
    "Is 1u ( which may be a representation for unsigned integers valid?\n",
    "For this problem, no.\n",
    "Is 0.1e10 valid?\n",
    "Yes\n",
    "-01.1e-10?\n",
    "Yes\n",
    "Hexadecimal numbers like 0xFF?\n",
    "Not for the purpose of this problem\n",
    "3. (. not followed by a digit)?\n",
    "No\n",
    "Can exponent have decimal numbers? 3e0.1?\n",
    "Not for this problem.\n",
    "Is 1f ( floating point number with f as prefix ) valid?\n",
    "Not for this problem.\n",
    "How about 1000LL or 1000L ( C++ representation for long and long long numbers )?\n",
    "Not for this problem.\n",
    "How about integers preceded by 00 or 0? like 008?\n",
    "Yes for this problem\n"
   ]
  },
  {
   "cell_type": "code",
   "execution_count": null,
   "metadata": {},
   "outputs": [],
   "source": [
    "class Solution:\n",
    "    # @param A : string\n",
    "    # @return an integer\n",
    "    def isNumber(self, A):\n",
    "        try:\n",
    "            x=float(A)\n",
    "            y=A.split(\"e\")\n",
    "            for ele in y:\n",
    "                if ele==\"\":\n",
    "                    return 0\n",
    "                if ele[-1]==\".\":\n",
    "                    return 0\n",
    "\n",
    "            return 1\n",
    "        except:\n",
    "            return 0"
   ]
  },
  {
   "cell_type": "code",
   "execution_count": null,
   "metadata": {},
   "outputs": [],
   "source": [
    "q=Solution()\n",
    "A=input()\n",
    "q.isNumber(A)"
   ]
  },
  {
   "cell_type": "markdown",
   "metadata": {},
   "source": [
    "## Valid Ip Address"
   ]
  },
  {
   "cell_type": "code",
   "execution_count": null,
   "metadata": {},
   "outputs": [],
   "source": [
    "Given a string containing only digits, restore it by returning all possible valid IP address combinations.\n",
    "\n",
    "A valid IP address must be in the form of A.B.C.D, where A,B,C and D are numbers from 0-255. \n",
    "The numbers cannot be 0 prefixed unless they are 0.\n",
    "\n",
    "Example:\n",
    "\n",
    "Given “25525511135”,\n",
    "\n",
    "return [“255.255.11.135”, “255.255.111.35”]. (Make sure the returned strings are sorted in order)"
   ]
  },
  {
   "cell_type": "code",
   "execution_count": null,
   "metadata": {},
   "outputs": [],
   "source": [
    "class Solution:\n",
    "    # @param A : string\n",
    "    # @return a list of strings\n",
    "    def restoreIpAddresses(self, A):\n",
    "        def is_valid(ip): \n",
    " \n",
    "            ip = ip.split(\".\") \n",
    "\n",
    " \n",
    "            for i in ip: \n",
    "                if (len(i) > 3 or int(i) < 0 or int(i) > 255): \n",
    "                    return False\n",
    "                if len(i) > 1 and int(i) == 0: \n",
    "                    return False\n",
    "                if (len(i) > 1 and int(i) != 0 and\n",
    "                    i[0] == '0'): \n",
    "                    return False\n",
    "            return True\n",
    "\n",
    "        def convert(s): \n",
    "            sz = len(s) \n",
    "\n",
    "            if sz > 12: \n",
    "                return [] \n",
    "            snew = s \n",
    "            l = [] \n",
    "\n",
    "            for i in range(1, sz - 2): \n",
    "                for j in range(i + 1, sz - 1): \n",
    "                    for k in range(j + 1, sz): \n",
    "                        snew = snew[:k] + \".\" + snew[k:] \n",
    "                        snew = snew[:j] + \".\" + snew[j:] \n",
    "                        snew = snew[:i] + \".\" + snew[i:] \n",
    "\n",
    "                        if is_valid(snew): \n",
    "                            l.append(snew) \n",
    "\n",
    "                        snew = s\n",
    "            return l\n",
    "        op=convert(A)\n",
    "        #print(op)\n",
    "        return op"
   ]
  },
  {
   "cell_type": "code",
   "execution_count": null,
   "metadata": {},
   "outputs": [],
   "source": [
    "q=Solution()\n",
    "A=input()\n",
    "q.restoreIpAddresses(A)"
   ]
  },
  {
   "cell_type": "markdown",
   "metadata": {},
   "source": [
    "## Search string in string"
   ]
  },
  {
   "cell_type": "code",
   "execution_count": null,
   "metadata": {},
   "outputs": [],
   "source": [
    "Implement strStr().\n",
    "\n",
    " strstr - locate a substring ( needle ) in a string ( haystack ). \n",
    "Try not to use standard library string functions for this question.\n",
    "\n",
    "Returns the index of the first occurrence of needle in haystack, or -1 if needle is not part of haystack.\n",
    "\n",
    " NOTE: Good clarification questions:\n",
    "What should be the return value if the needle is empty?\n",
    "What if both haystack and needle are empty?\n",
    "For the purpose of this problem, assume that the return value should be -1 in both cases. \n"
   ]
  },
  {
   "cell_type": "code",
   "execution_count": null,
   "metadata": {},
   "outputs": [],
   "source": [
    "class Solution:\n",
    "    # @param A : string\n",
    "    # @param B : string\n",
    "    # @return an integer\n",
    "    def strStr(self, A, B):\n",
    "        la=len(A)\n",
    "        lb=len(B)\n",
    "        if la==0 or lb==0:\n",
    "            return -1\n",
    "        for i in range(la-lb+1):\n",
    "            substr=A[i:i+lb]\n",
    "            if substr==B:\n",
    "                return 1\n",
    "        return -1"
   ]
  },
  {
   "cell_type": "code",
   "execution_count": null,
   "metadata": {},
   "outputs": [],
   "source": [
    "A = \"bbbbbbbbab\"\n",
    "B = \"baba\"\n",
    "l=len(B)\n",
    "for i in range(len(A)):\n",
    "    substr=A[i:i+l]\n",
    "    print(substr)"
   ]
  },
  {
   "cell_type": "markdown",
   "metadata": {},
   "source": [
    "## Rotate String"
   ]
  },
  {
   "cell_type": "code",
   "execution_count": null,
   "metadata": {},
   "outputs": [],
   "source": [
    "You are given an array A consisting of strings made up of the letters ‘a’ and ‘b’ only.\n",
    "Each string goes through a number of operations, where:\n",
    "\n",
    "1.\tAt time 1, you circularly rotate each string by 1 letter.\n",
    "2.\tAt time 2, you circularly rotate the new rotated strings by 2 letters.\n",
    "3.\tAt time 3, you circularly rotate the new rotated strings by 3 letters.\n",
    "4.\tAt time i, you circularly rotate the new rotated strings by i % length(string) letters.\n",
    "\n",
    "Eg: String is \"abaa\"\n",
    "\n",
    "1.\tAt time 1, string is \"baaa\", as 1 letter is circularly rotated to the back\n",
    "2.\tAt time 2, string is \"aaba\", as 2 letters of the string \"baaa\" is circularly rotated to the back\n",
    "3.\tAt time 3, string is \"aaab\", as 3 letters of the string \"aaba\" is circularly rotated to the back\n",
    "4.\tAt time 4, string is again \"aaab\", as 4 letters of the string \"aaab\" is circularly rotated to the back\n",
    "5.\tAt time 5, string is \"aaba\", as 1 letters of the string \"aaab\" is circularly rotated to the back\n",
    "After some units of time, a string becomes equal to it’s original self.\n",
    "Once a string becomes equal to itself, it’s letters start to rotate from \n",
    "the first letter again (process resets). So, if a string takes t time to get back to the original, \n",
    "at time t+1 one letter will be rotated and the string will be it’s original self at 2t time.\n",
    "You have to find the minimum time, where maximum number of strings are equal to their original self.\n",
    "As this time can be very large, give the answer modulo 109+7.\n",
    "\n",
    "Note: Your solution will run on multiple test cases so do clear global variables after using them.\n",
    "\n",
    "Input:\n",
    "\n",
    "A: Array of strings.\n",
    "Output:\n",
    "\n",
    "Minimum time, where maximum number of strings are equal to their original self.\n",
    "Constraints:\n",
    "\n",
    "1 <= size(A) <= 10^5\n",
    "1 <= size of each string in A <= 10^5\n",
    "Each string consists of only characters 'a' and 'b'\n",
    "Summation of length of all strings <= 10^7\n",
    "Example:\n",
    "\n",
    "Input\n",
    "\n",
    "A: [a,ababa,aba]\n",
    "Output\n",
    "\n",
    "4\n",
    "\n",
    "String 'a' is it's original self at time 1, 2, 3 and 4.\n",
    "String 'ababa' is it's original self only at time 4. (ababa => babaa => baaba => babaa => ababa)\n",
    "String 'aba' is it's original self at time 2 and 4. (aba => baa => aba)\n",
    "\n",
    "Hence, 3 strings are their original self at time 4.\n",
    "Seen this question"
   ]
  },
  {
   "cell_type": "code",
   "execution_count": null,
   "metadata": {},
   "outputs": [],
   "source": [
    "class Solution:\n",
    "    # @param A : list of strings\n",
    "    # @return an integer\n",
    "    def solve(self, A):\n",
    "        def gcd(a,b):\n",
    "            if a>b:\n",
    "                if b==0:\n",
    "                    return a\n",
    "                return gcd(a%b,b)\n",
    "            elif a==b:\n",
    "                return a\n",
    "            elif a<b:\n",
    "                if a==0:\n",
    "                    return b\n",
    "                return gcd(b%a,a)\n",
    "        def lcf(a,b):\n",
    "            op=(a*b)//gcd(a,b)\n",
    "            return op\n",
    "        def rotateFreq(st):\n",
    "            i=1\n",
    "            l=len(st)\n",
    "            tempSt=st[1:]+st[0]\n",
    "            while tempSt!=st:\n",
    "                #print(tempSt)\n",
    "                i+=1\n",
    "                rotate=i%l\n",
    "                newTempSt=tempSt[rotate:]+tempSt[:rotate]\n",
    "                tempSt=newTempSt\n",
    "            return i\n",
    "        ansArray=[rotateFreq(st) for st in A]\n",
    "        #print(ansArray)\n",
    "        lc=ansArray[0]\n",
    "        for i in range(1,len(A)):\n",
    "            lc=lcf(lc,ansArray[i])\n",
    "        \n",
    "        return lc"
   ]
  },
  {
   "cell_type": "code",
   "execution_count": null,
   "metadata": {},
   "outputs": [],
   "source": [
    "q=Solution()\n",
    "A=[ \"a\", \"ababa\", \"aba\" ]\n",
    "q.solve(A)"
   ]
  },
  {
   "cell_type": "markdown",
   "metadata": {},
   "source": [
    "## Roman to Integer"
   ]
  },
  {
   "cell_type": "code",
   "execution_count": null,
   "metadata": {},
   "outputs": [],
   "source": [
    "class Solution:\n",
    "    # @param A : string\n",
    "    # @return an integer\n",
    "    def romanToInt(self, A):\n",
    "        def value(r):\n",
    "            if (r == 'I'):\n",
    "                return 1\n",
    "            if (r == 'V'):\n",
    "                return 5\n",
    "            if (r == 'X'):\n",
    "                return 10\n",
    "            if (r == 'L'):\n",
    "                return 50\n",
    "            if (r == 'C'):\n",
    "                return 100\n",
    "            if (r == 'D'):\n",
    "                return 500\n",
    "            if (r == 'M'):\n",
    "                return 1000\n",
    "            return -1\n",
    "        def romanToDecimal(str):\n",
    "            res = 0\n",
    "            i = 0\n",
    "\n",
    "            while (i < len(str)):\n",
    "\n",
    "                s1 = value(str[i])\n",
    "\n",
    "                if (i + 1 < len(str)):\n",
    "\n",
    "                    s2 = value(str[i + 1])\n",
    "\n",
    "                    if (s1 >= s2):\n",
    "    \n",
    "                        res = res + s1\n",
    "                        i = i + 1\n",
    "                    else:\n",
    "\n",
    "                        res = res + s2 - s1\n",
    "                        i = i + 2\n",
    "                else:\n",
    "                    res = res + s1\n",
    "                    i = i + 1\n",
    "\n",
    "            return res\n",
    "        return romanToDecimal(A)"
   ]
  },
  {
   "cell_type": "code",
   "execution_count": null,
   "metadata": {},
   "outputs": [],
   "source": [
    "q=Solution()\n",
    "A=input()\n",
    "q.romanToInt(A)"
   ]
  },
  {
   "cell_type": "markdown",
   "metadata": {},
   "source": [
    "## Integer to Roman"
   ]
  },
  {
   "cell_type": "code",
   "execution_count": null,
   "metadata": {},
   "outputs": [],
   "source": [
    "class Solution:\n",
    "    # @param A : integer\n",
    "    # @return a strings\n",
    "    def intToRoman(self, A):\n",
    "        def printRoman(number):\n",
    "            num = [1, 4, 5, 9, 10, 40, 50, 90, 100, 400, 500, 900, 1000]\n",
    "            sym = [\"I\", \"IV\", \"V\", \"IX\", \"X\", \"XL\", \"L\", \"XC\", \"C\", \"CD\", \"D\", \"CM\", \"M\"]\n",
    "            i = 12\n",
    "            op=\"\"\n",
    "            while number:\n",
    "                div = number // num[i]\n",
    "                number %= num[i]\n",
    " \n",
    "                while div:\n",
    "                    #print(sym[i], end = \"\")\n",
    "                    op+=sym[i]\n",
    "                    div -= 1\n",
    "                i -= 1\n",
    "            return op\n",
    "        return printRoman(A)\n"
   ]
  },
  {
   "cell_type": "markdown",
   "metadata": {},
   "source": [
    "## Add Binary Strings"
   ]
  },
  {
   "cell_type": "code",
   "execution_count": null,
   "metadata": {},
   "outputs": [],
   "source": [
    "Given two binary strings, return their sum (also a binary string).\n",
    "\n",
    "Example:\n",
    "\n",
    "a = \"100\"\n",
    "\n",
    "b = \"11\"\n",
    "Return a + b = “111”."
   ]
  },
  {
   "cell_type": "code",
   "execution_count": 13,
   "metadata": {},
   "outputs": [],
   "source": [
    "class Solution:\n",
    "    # @param A : string\n",
    "    # @param B : string\n",
    "    # @return a strings\n",
    "    def addBinary(self, A, B):\n",
    "        x=A\n",
    "        y=B\n",
    "        max_len = max(len(x), len(y)) \n",
    "  \n",
    "        x = x.zfill(max_len) \n",
    "        y = y.zfill(max_len) \n",
    "          \n",
    "        # initialize the result \n",
    "        result = '' \n",
    "          \n",
    "        # initialize the carry \n",
    "        carry = 0\n",
    "  \n",
    "        # Traverse the string \n",
    "        for i in range(max_len - 1, -1, -1): \n",
    "            r = carry \n",
    "            r += 1 if x[i] == '1' else 0\n",
    "            r += 1 if y[i] == '1' else 0\n",
    "            result = ('1' if r % 2 == 1 else '0') + result \n",
    "            carry = 0 if r < 2 else 1     # Compute the carry. \n",
    "          \n",
    "        if carry !=0 : result = '1' + result \n",
    "  \n",
    "        return result.zfill(max_len) "
   ]
  },
  {
   "cell_type": "code",
   "execution_count": 14,
   "metadata": {},
   "outputs": [
    {
     "name": "stdout",
     "output_type": "stream",
     "text": [
      "Enter A:100\n",
      "Enter B:100\n",
      "1000\n"
     ]
    }
   ],
   "source": [
    "q=Solution()\n",
    "A=input('Enter A:')\n",
    "B=input('Enter B:')\n",
    "print(q.addBinary(A,B))"
   ]
  },
  {
   "cell_type": "code",
   "execution_count": 18,
   "metadata": {},
   "outputs": [
    {
     "name": "stdout",
     "output_type": "stream",
     "text": [
      "8\n",
      "15\n"
     ]
    }
   ],
   "source": [
    "A=int(input())\n",
    "print(A^(A-1))"
   ]
  },
  {
   "cell_type": "markdown",
   "metadata": {},
   "source": [
    "## Convert to Palindrome"
   ]
  },
  {
   "cell_type": "code",
   "execution_count": null,
   "metadata": {},
   "outputs": [],
   "source": [
    "Problem Description\n",
    "\n",
    "Given a string A consisting only of lowercase characters, we need to check whether it is possible \n",
    "to make this string a palindrome after removing exactly one character from this.\n",
    "\n",
    "If it is possible then return 1 else return 0.\n",
    "\n",
    "\n",
    "\n",
    "Problem Constraints\n",
    "3 <= |A| <= 105\n",
    "\n",
    "A[i] is always a lowercase character.\n",
    "\n",
    "\n",
    "\n",
    "Input Format\n",
    "First and only argument is an string A.\n",
    "\n",
    "\n",
    "\n",
    "Output Format\n",
    "Return 1 if it is possible to convert A to palindrome by removing exactly one character else return 0.\n",
    "\n",
    "\n",
    "\n",
    "Example Input\n",
    "Input 1:\n",
    "\n",
    " A = \"abcba\"\n",
    "Input 2:\n",
    "\n",
    " A = \"abecbea\"\n",
    "\n",
    "\n",
    "Example Output\n",
    "Output 1:\n",
    "\n",
    " 1\n",
    "Output 2:\n",
    "\n",
    " 0\n",
    "\n",
    "\n",
    "Example Explanation\n",
    "Explanation 1:\n",
    "\n",
    " We can remove character ‘c’ to make string palindrome\n",
    "Explanation 2:\n",
    "\n",
    " It is not possible to make this string palindrome just by removing one character \n"
   ]
  },
  {
   "cell_type": "code",
   "execution_count": 9,
   "metadata": {},
   "outputs": [],
   "source": [
    "class Solution:\n",
    "    # @param A : string\n",
    "    # @return an integer\n",
    "    def solve(self, A):\n",
    "        def isPalindromeAfterRemoval(string):\n",
    "            revStr=string[::-1]\n",
    "            if string==revStr:\n",
    "                return 1\n",
    "            l=len(string)\n",
    "            for i in range(l):\n",
    "                stripped=string[:i]+string[i+1:]\n",
    "                if stripped==stripped[::-1]:\n",
    "                    return 1\n",
    "            return 0\n",
    "        return isPalindromeAfterRemoval(A)"
   ]
  },
  {
   "cell_type": "code",
   "execution_count": 10,
   "metadata": {},
   "outputs": [
    {
     "name": "stdout",
     "output_type": "stream",
     "text": [
      "abecbea\n"
     ]
    },
    {
     "data": {
      "text/plain": [
       "0"
      ]
     },
     "execution_count": 10,
     "metadata": {},
     "output_type": "execute_result"
    }
   ],
   "source": [
    "q=Solution()\n",
    "A=input()\n",
    "q.solve(A)"
   ]
  },
  {
   "cell_type": "markdown",
   "metadata": {},
   "source": [
    "## Longest Palindromic Substring"
   ]
  },
  {
   "cell_type": "code",
   "execution_count": null,
   "metadata": {},
   "outputs": [],
   "source": [
    "Given a string S, find the longest palindromic substring in S.\n",
    "\n",
    "Substring of string S:\n",
    "\n",
    "S[i...j] where 0 <= i <= j < len(S)\n",
    "\n",
    "Palindrome string:\n",
    "\n",
    "A string which reads the same backwards. More formally, S is palindrome if reverse(S) = S.\n",
    "\n",
    "Incase of conflict, return the substring which occurs first ( with the least starting index ).\n",
    "\n",
    "Example :\n",
    "    Input : \"aaaabaaa\"\n",
    "Output : \"aaabaaa\""
   ]
  },
  {
   "cell_type": "code",
   "execution_count": 14,
   "metadata": {},
   "outputs": [],
   "source": [
    "class Solution:\n",
    "    # @param A : string\n",
    "    # @return a strings\n",
    "    def longestPalindrome(self, A):\n",
    "        l=len(A)\n",
    "        for size in range(l-1,-1,-1):\n",
    "            for start in range(l-size):\n",
    "                #print(start,size)\n",
    "                subStr=A[start:start+size+1]\n",
    "                revStr=subStr[::-1]\n",
    "                if revStr==subStr:\n",
    "                    return revStr\n"
   ]
  },
  {
   "cell_type": "code",
   "execution_count": 15,
   "metadata": {},
   "outputs": [
    {
     "name": "stdout",
     "output_type": "stream",
     "text": [
      "aaaabaaa\n"
     ]
    },
    {
     "data": {
      "text/plain": [
       "'aaabaaa'"
      ]
     },
     "execution_count": 15,
     "metadata": {},
     "output_type": "execute_result"
    }
   ],
   "source": [
    "q=Solution()\n",
    "A=input()\n",
    "q.longestPalindrome(A)"
   ]
  },
  {
   "cell_type": "markdown",
   "metadata": {},
   "source": [
    "## Zigzag String"
   ]
  },
  {
   "cell_type": "code",
   "execution_count": null,
   "metadata": {},
   "outputs": [],
   "source": [
    "The string \"PAYPALISHIRING\" is written in a zigzag pattern on a given number of rows \n",
    "like this: (you may want to display this pattern in a fixed font for better legibility)\n",
    "\n",
    "P.......A........H.......N\n",
    "..A..P....L....S....I...I....G\n",
    "....Y.........I........R\n",
    "And then read line by line: PAHNAPLSIIGYIR\n",
    "Write the code that will take a string and make this conversion given a number of rows:\n",
    "\n",
    "string convert(string text, int nRows);\n",
    "convert(\"PAYPALISHIRING\", 3) should return \"PAHNAPLSIIGYIR\"\n",
    "**Example 2 : **\n",
    "ABCD, 2 can be written as\n",
    "\n",
    "A....C\n",
    "...B....D\n",
    "and hence the answer would be ACBD.\n",
    "\n",
    "Seen this que"
   ]
  },
  {
   "cell_type": "code",
   "execution_count": 32,
   "metadata": {},
   "outputs": [],
   "source": [
    "class Solution:\n",
    "    # @param A : string\n",
    "    # @param B : integer\n",
    "    # @return a strings\n",
    "    def convert(self, A, B):\n",
    "        zigzag={}\n",
    "        for i in range(B):\n",
    "            zigzag[i]=[]\n",
    "        l=len(A)\n",
    "        zIndex=0\n",
    "        flag=1\n",
    "        if B==1:\n",
    "            return A\n",
    "        for i in range(l):\n",
    "            #print(zIndex,flag)\n",
    "            char=A[i]\n",
    "            zigzag[zIndex].append(char)\n",
    "            if zIndex==B-1 and flag==1:\n",
    "                zIndex=B-2\n",
    "                flag=0\n",
    "            elif flag==1 and zIndex<B:\n",
    "                zIndex+=1\n",
    "            elif flag==0 and zIndex>0 and zIndex<B:\n",
    "                zIndex-=1\n",
    "            elif flag==0 and zIndex==0:\n",
    "                zIndex=1\n",
    "                flag=1\n",
    "            \n",
    "        op=\"\"\n",
    "        #print(zigzag)\n",
    "        for i in range(B):\n",
    "            z=\"\".join(zigzag[i])\n",
    "            op+=z\n",
    "            #print(zigzag[i])\n",
    "        return op\n"
   ]
  },
  {
   "cell_type": "code",
   "execution_count": 33,
   "metadata": {},
   "outputs": [
    {
     "name": "stdout",
     "output_type": "stream",
     "text": [
      "sam\n",
      "1\n"
     ]
    },
    {
     "data": {
      "text/plain": [
       "'sam'"
      ]
     },
     "execution_count": 33,
     "metadata": {},
     "output_type": "execute_result"
    }
   ],
   "source": [
    "q=Solution()\n",
    "A=input()\n",
    "B=int(input())\n",
    "q.convert(A,B)"
   ]
  },
  {
   "cell_type": "code",
   "execution_count": null,
   "metadata": {},
   "outputs": [],
   "source": []
  }
 ],
 "metadata": {
  "kernelspec": {
   "display_name": "Python 3",
   "language": "python",
   "name": "python3"
  },
  "language_info": {
   "codemirror_mode": {
    "name": "ipython",
    "version": 3
   },
   "file_extension": ".py",
   "mimetype": "text/x-python",
   "name": "python",
   "nbconvert_exporter": "python",
   "pygments_lexer": "ipython3",
   "version": "3.8.5"
  }
 },
 "nbformat": 4,
 "nbformat_minor": 4
}
