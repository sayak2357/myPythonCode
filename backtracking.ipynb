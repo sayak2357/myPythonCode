{
 "cells": [
  {
   "cell_type": "markdown",
   "metadata": {},
   "source": [
    "## Mini Sudoku"
   ]
  },
  {
   "cell_type": "code",
   "execution_count": 16,
   "metadata": {},
   "outputs": [],
   "source": [
    "class Solution:\n",
    "    def solve(self,A):\n",
    "        def isComplete(arr):\n",
    "            l=len(arr)\n",
    "            for i in range(l):\n",
    "                for j in range(l):\n",
    "                    if arr[i][j]==0:\n",
    "                        return False\n",
    "            return True\n",
    "        l=len(A)\n",
    "        rowArr=[[]for x in range(l)]\n",
    "        colArr=[[]for x in range(l)]\n",
    "        for row in range(l):\n",
    "            for col in range(l):\n",
    "                if A[row][col]>0:\n",
    "                    rowArr[row].append(A[row][col])\n",
    "        for col in range(l):\n",
    "            for row in range(l):\n",
    "                if A[row][col]>0:\n",
    "                    colArr[col].append(A[row][col])\n",
    "        def isSafe(arr,i,j,num,rowArr,colArr):\n",
    "            if ((num not in rowArr[i]) and (num not in colArr[i])):\n",
    "                return True\n",
    "            else:\n",
    "                return False\n",
    "        #print(rowArr,colArr)\n",
    "        def minSudoku(arr,rowArr,colArr):\n",
    "            l=len(arr)\n",
    "            if isComplete(arr):\n",
    "                return True\n",
    "            for i in range(l):\n",
    "                for j in range(l):\n",
    "                    if arr[i][j]==0:\n",
    "                        flag=0\n",
    "                        for opt in range(1,l+1):\n",
    "                            if isSafe(arr,i,j,opt,rowArr,colArr):\n",
    "                                rowArr[i].append(opt)\n",
    "                                colArr[j].append(opt)\n",
    "                                arr[i][j]=opt\n",
    "                                op=minSudoku(arr,rowArr,colArr)\n",
    "                                if not op:\n",
    "                                    rowArr[i].remove(opt)\n",
    "                                    colArr[j].remove(opt)\n",
    "                                    arr[i][j]=0\n",
    "                                else:\n",
    "                                    flag=1\n",
    "                                    break\n",
    "                        if flag==0:\n",
    "                            return False\n",
    "            return True\n",
    "        minSudoku(A,rowArr,colArr)\n",
    "        return A"
   ]
  },
  {
   "cell_type": "code",
   "execution_count": 17,
   "metadata": {},
   "outputs": [
    {
     "data": {
      "text/plain": [
       "[[1, 0, 0], [0, 0, 0], [0, 2, 0]]"
      ]
     },
     "execution_count": 17,
     "metadata": {},
     "output_type": "execute_result"
    }
   ],
   "source": [
    "q=Solution()\n",
    "A=[[1,0,0],[0,0,0],[0,2,0]]\n",
    "q.solve(A)"
   ]
  },
  {
   "cell_type": "code",
   "execution_count": 7,
   "metadata": {},
   "outputs": [
    {
     "name": "stdout",
     "output_type": "stream",
     "text": [
      "[[], [], []]\n",
      "[[1], [], []]\n",
      "[[1], [], [3, 1, 2]]\n",
      "[[1], [], [3, 2]]\n"
     ]
    }
   ],
   "source": [
    "t=[[]for i in range(3)]\n",
    "print(t)\n",
    "t[0].append(1)\n",
    "print(t)\n",
    "t[2].append(3)\n",
    "t[2].append(1)\n",
    "t[2].append(2)\n",
    "print(t)\n",
    "t[2].remove(1)\n",
    "print(t)"
   ]
  },
  {
   "cell_type": "markdown",
   "metadata": {},
   "source": [
    "## Maximal String"
   ]
  },
  {
   "cell_type": "code",
   "execution_count": null,
   "metadata": {},
   "outputs": [],
   "source": [
    "Problem Description\n",
    "\n",
    "Given a string A and integer B, what is maximal lexicographical stringthat can be made from A if you do \n",
    "atmost B swaps.\n",
    "\n",
    "\n",
    "\n",
    "Problem Constraints\n",
    "1 <= |A| <= 9\n",
    "\n",
    "A contains only digits from 0 to 9.\n",
    "\n",
    "1 <= B <= 5\n",
    "\n",
    "\n",
    "\n",
    "Input Format\n",
    "First argument is string A.\n",
    "\n",
    "Second argument is integer B.\n",
    "\n",
    "\n",
    "\n",
    "Output Format\n",
    "Return a string, the naswer to the problem.\n",
    "\n",
    "\n",
    "\n",
    "Example Input\n",
    "Input 1:\n",
    "\n",
    "A = \"254\"\n",
    "B = 1\n",
    "Input 2:\n",
    "\n",
    "A = \"254'\n",
    "B = 2\n",
    "\n",
    "\n",
    "Example Output\n",
    "Output 1:\n",
    "\n",
    " 524\n",
    "Output 2:\n",
    "\n",
    " 542\n",
    "\n",
    "\n",
    "Example Explanation\n",
    "Explanation 1:\n",
    "\n",
    " Swap 2 and 5.\n",
    "Explanation 2:\n",
    "\n",
    "Swap 2 and 5 then swap 4 and 2.\n"
   ]
  },
  {
   "cell_type": "code",
   "execution_count": 9,
   "metadata": {},
   "outputs": [],
   "source": [
    "class Solution:\n",
    "    # @param A : string\n",
    "    # @param B : integer\n",
    "    # @return a strings\n",
    "    def solve(self, A, B):\n",
    "        def maxVal(lString,B):\n",
    "            if B==0:\n",
    "                num=\"\".join(lString)\n",
    "                return int(num)\n",
    "            l=len(lString)\n",
    "            maxNum=0\n",
    "            for i in range(l-1):\n",
    "                for j in range(i+1,l):\n",
    "                    #if (i,j) not in tried:\n",
    "                    lString[i],lString[j]=lString[j],lString[i]\n",
    "                    #tried[(i,j)]=1\n",
    "                    maxNum=max(maxNum,maxVal(lString,B-1))\n",
    "                    lString[i],lString[j]=lString[j],lString[i]\n",
    "            return maxNum\n",
    "        lA=list(A)\n",
    "        swapped={}\n",
    "        return maxVal(lA,B)"
   ]
  },
  {
   "cell_type": "code",
   "execution_count": 10,
   "metadata": {},
   "outputs": [
    {
     "name": "stdout",
     "output_type": "stream",
     "text": [
      "7599\n",
      "2\n"
     ]
    },
    {
     "data": {
      "text/plain": [
       "9975"
      ]
     },
     "execution_count": 10,
     "metadata": {},
     "output_type": "execute_result"
    }
   ],
   "source": [
    "q=Solution()\n",
    "A=input()\n",
    "B=int(input())\n",
    "q.solve(A,B)"
   ]
  },
  {
   "cell_type": "markdown",
   "metadata": {},
   "source": [
    "## Gray Code"
   ]
  },
  {
   "cell_type": "code",
   "execution_count": null,
   "metadata": {},
   "outputs": [],
   "source": [
    "The gray code is a binary numeral system where two successive values differ in only one bit.\n",
    "\n",
    "Given a non-negative integer n representing the total number of bits in the code,\n",
    "print the sequence of gray code. A gray code sequence must begin with 0.\n",
    "\n",
    "For example, given n = 2, return [0,1,3,2]. Its gray code sequence is:\n",
    "\n",
    "00 - 0\n",
    "01 - 1\n",
    "11 - 3\n",
    "10 - 2\n",
    "There might be multiple gray code sequences possible for a given n.\n",
    "Return any such sequence."
   ]
  },
  {
   "cell_type": "code",
   "execution_count": 14,
   "metadata": {},
   "outputs": [],
   "source": [
    "class Solution:\n",
    "    # @param A : integer\n",
    "    # @return a list of integers\n",
    "    def grayCode(self, A):\n",
    "        import math as mt\n",
    "        op=[]\n",
    "        def generateGrayarr(n):\n",
    "            if (n <= 0):\n",
    "                return\n",
    " \n",
    "            arr = list()\n",
    " \n",
    "    \n",
    "            arr.append(\"0\")\n",
    "            arr.append(\"1\")\n",
    " \n",
    "            i = 2\n",
    "            j = 0\n",
    "            op=[] \n",
    "            while(True):\n",
    " \n",
    "                if i >= 1 << n:\n",
    "                    break\n",
    "     \n",
    "                for j in range(i - 1, -1, -1):\n",
    "                    arr.append(arr[j])\n",
    " \n",
    "                for j in range(i):\n",
    "                    arr[j] = \"0\" + arr[j]\n",
    " \n",
    "                for j in range(i, 2 * i):\n",
    "                    arr[j] = \"1\" + arr[j]\n",
    "                i = i << 1\n",
    " \n",
    "            for i in range(len(arr)):\n",
    "                op.append(int(arr[i],2))\n",
    "            return op\n",
    "        \n",
    "        return generateGrayarr(A)"
   ]
  },
  {
   "cell_type": "code",
   "execution_count": 15,
   "metadata": {},
   "outputs": [
    {
     "name": "stdout",
     "output_type": "stream",
     "text": [
      "2\n"
     ]
    },
    {
     "data": {
      "text/plain": [
       "[0, 1, 3, 2]"
      ]
     },
     "execution_count": 15,
     "metadata": {},
     "output_type": "execute_result"
    }
   ],
   "source": [
    "q=Solution()\n",
    "A=int(input())\n",
    "q.grayCode(A)"
   ]
  },
  {
   "cell_type": "markdown",
   "metadata": {},
   "source": [
    "## Genrate All Permutations"
   ]
  },
  {
   "cell_type": "code",
   "execution_count": null,
   "metadata": {},
   "outputs": [],
   "source": [
    "Given a collection of numbers, return all possible permutations.\n",
    "\n",
    "Example:\n",
    "\n",
    "[1,2,3] will have the following permutations:\n",
    "\n",
    "[1,2,3]\n",
    "[1,3,2]\n",
    "[2,1,3] \n",
    "[2,3,1] \n",
    "[3,1,2] \n",
    "[3,2,1]\n",
    " NOTE\n",
    "No two entries in the permutation sequence should be the same.\n",
    "For the purpose of this problem, assume that all the numbers in the collection are unique.\n"
   ]
  },
  {
   "cell_type": "code",
   "execution_count": 35,
   "metadata": {},
   "outputs": [],
   "source": [
    "class Solution:\n",
    "    # @param A : list of integers\n",
    "    # @return a list of list of integers\n",
    "    def permute(self, A):\n",
    "        l=len(A)\n",
    "        dictMap={}\n",
    "        for num in A:\n",
    "            if num not in dictMap:\n",
    "                dictMap[num]=1\n",
    "            else:\n",
    "                dictMap[num]+=1\n",
    "                \n",
    "        \n",
    "        def generatePermutations(index,arr,dictMap):\n",
    "            l=len(arr)\n",
    "            if index==l:\n",
    "                nonlocal op\n",
    "                temp=arr[:]\n",
    "                op.append(temp)\n",
    "                return\n",
    "            for num in dictMap:\n",
    "                if dictMap[num]>0:\n",
    "                    #print(dictMap,index,num)\n",
    "                    arr[index]=num\n",
    "                    dictMap[num]-=1\n",
    "                    generatePermutations(index+1,arr,dictMap)\n",
    "                    dictMap[num]+=1\n",
    "                    \n",
    "            return\n",
    "        op=[]\n",
    "        #print(dictMap)\n",
    "        l=len(A)\n",
    "        arr=[-1 for i in range(l)]\n",
    "        generatePermutations(0,arr,dictMap)\n",
    "        return op"
   ]
  },
  {
   "cell_type": "code",
   "execution_count": 36,
   "metadata": {},
   "outputs": [
    {
     "data": {
      "text/plain": [
       "[[1, 2, 3], [1, 3, 2], [2, 1, 3], [2, 3, 1], [3, 1, 2], [3, 2, 1]]"
      ]
     },
     "execution_count": 36,
     "metadata": {},
     "output_type": "execute_result"
    }
   ],
   "source": [
    "q=Solution()\n",
    "A=[1,2,3]\n",
    "q.permute(A)"
   ]
  },
  {
   "cell_type": "markdown",
   "metadata": {},
   "source": [
    "## Genrate All Subsets"
   ]
  },
  {
   "cell_type": "code",
   "execution_count": null,
   "metadata": {},
   "outputs": [],
   "source": [
    "Given a set of distinct integers, S, return all possible subsets.\n",
    "\n",
    " Note:\n",
    "Elements in a subset must be in non-descending order.\n",
    "The solution set must not contain duplicate subsets.\n",
    "Also, the subsets should be sorted in ascending ( lexicographic ) order.\n",
    "The list is not necessarily sorted.\n",
    "Example :\n",
    "\n",
    "If S = [1,2,3], a solution is:\n",
    "\n",
    "[\n",
    "  [],\n",
    "  [1],\n",
    "  [1, 2],\n",
    "  [1, 2, 3],\n",
    "  [1, 3],\n",
    "  [2],\n",
    "  [2, 3],\n",
    "  [3],\n",
    "]"
   ]
  },
  {
   "cell_type": "code",
   "execution_count": 6,
   "metadata": {},
   "outputs": [],
   "source": [
    "class Solution:\n",
    "    # @param A : list of integers\n",
    "    # @return a list of list of integers\n",
    "    def subsets(self, A):\n",
    "        def genrateSubsets(arr,index,subset):\n",
    "            l=len(arr)\n",
    "            if index>=l:\n",
    "                nonlocal op\n",
    "                op.append(subset)\n",
    "                return\n",
    "            genrateSubsets(arr,index+1,subset)\n",
    "            temp=subset[:]\n",
    "            temp.append(arr[index])\n",
    "            genrateSubsets(arr,index+1,temp)\n",
    "            return\n",
    "        op=[]\n",
    "        genrateSubsets(A,0,[])\n",
    "        op.sort()\n",
    "        return op"
   ]
  },
  {
   "cell_type": "code",
   "execution_count": 7,
   "metadata": {},
   "outputs": [
    {
     "data": {
      "text/plain": [
       "[[], [1], [1, 2], [1, 2, 3], [1, 3], [2], [2, 3], [3]]"
      ]
     },
     "execution_count": 7,
     "metadata": {},
     "output_type": "execute_result"
    }
   ],
   "source": [
    "q=Solution()\n",
    "S = [1,2,3]\n",
    "q.subsets(S)"
   ]
  },
  {
   "cell_type": "markdown",
   "metadata": {},
   "source": [
    "## Combination Sum"
   ]
  },
  {
   "cell_type": "code",
   "execution_count": null,
   "metadata": {},
   "outputs": [],
   "source": [
    "Given a set of candidate numbers (C) and a target number (T), find all unique combinations in C \n",
    "where the candidate numbers sums to T.\n",
    "\n",
    "The same repeated number may be chosen from C unlimited number of times.\n",
    "\n",
    " Note:\n",
    "All numbers (including target) will be positive integers.\n",
    "Elements in a combination (a1, a2, … , ak) must be in non-descending order. (ie, a1 ≤ a2 ≤ … ≤ ak).\n",
    "The combinations themselves must be sorted in ascending order.\n",
    "CombinationA > CombinationB iff (a1 > b1) OR (a1 = b1 AND a2 > b2) OR … (a1 = b1 AND a2 = b2 AND … ai = bi \n",
    "                                                                         AND ai+1 > bi+1)\n",
    "The solution set must not contain duplicate combinations.\n",
    "Example,\n",
    "Given candidate set 2,3,6,7 and target 7,\n",
    "A solution set is:\n",
    "\n",
    "[2, 2, 3]\n",
    "[7]"
   ]
  },
  {
   "cell_type": "code",
   "execution_count": null,
   "metadata": {},
   "outputs": [],
   "source": [
    "class Solution:\n",
    "    # @param A : list of integers\n",
    "    # @param B : integer\n",
    "    # @return a list of list of integers\n",
    "    def combinationSum(self, A, B):\n",
    "        def combinationSum(arr,chosen,s,d):\n",
    "            if s<0:\n",
    "                return\n",
    "            if s==0:\n",
    "                nonlocal op\n",
    "                chosen.sort()\n",
    "                t=tuple(chosen)\n",
    "                if t not in d:\n",
    "                    op.append(chosen)\n",
    "                    d[t]=1\n",
    "                return\n",
    "            for num in arr:\n",
    "                temp=chosen[:]\n",
    "                temp.append(num)\n",
    "                combinationSum(arr,temp,s-num,d)\n",
    "            return\n",
    "        op=[]\n",
    "        temp={}\n",
    "        combinationSum(A,[],B,temp)\n",
    "        op.sort()\n",
    "        return op"
   ]
  },
  {
   "cell_type": "markdown",
   "metadata": {},
   "source": [
    "## Combination Sum II (non-repeating character in combination)"
   ]
  },
  {
   "cell_type": "code",
   "execution_count": null,
   "metadata": {},
   "outputs": [],
   "source": [
    "Given a collection of candidate numbers (C) and a target number (T), find all \n",
    "unique combinations in C where the candidate numbers sums to T.\n",
    "\n",
    "Each number in C may only be used once in the combination.\n",
    "\n",
    " Note:\n",
    "All numbers (including target) will be positive integers.\n",
    "Elements in a combination (a1, a2, … , ak) must be in non-descending order. (ie, a1 ≤ a2 ≤ … ≤ ak).\n",
    "The solution set must not contain duplicate combinations.\n",
    "Example :\n",
    "\n",
    "Given candidate set 10,1,2,7,6,1,5 and target 8,\n",
    "\n",
    "A solution set is:\n",
    "\n",
    "[1, 7]\n",
    "[1, 2, 5]\n",
    "[2, 6]\n",
    "[1, 1, 6]"
   ]
  },
  {
   "cell_type": "code",
   "execution_count": 10,
   "metadata": {},
   "outputs": [],
   "source": [
    "class Solution:\n",
    "    # @param A : list of integers\n",
    "    # @param B : integer\n",
    "    # @return a list of list of integers\n",
    "    def combinationSum(self, A, B):\n",
    "        def combSum(arr,index,chosen,s,op):\n",
    "            l=len(arr)\n",
    "            if s<0:\n",
    "                return\n",
    "            if s==0:\n",
    "                temp=chosen[:]\n",
    "                temp.sort()\n",
    "                if temp not in op:\n",
    "                    op.append(temp)\n",
    "                return\n",
    "            if index>=l:\n",
    "                return\n",
    "            temp=chosen[:]\n",
    "            combSum(arr,index+1,temp,s,op)\n",
    "            temp.append(arr[index])\n",
    "            combSum(arr,index+1,temp,s-arr[index],op)\n",
    "            return\n",
    "        temp=[]\n",
    "        combSum(A,0,[],B,temp)\n",
    "        return temp"
   ]
  },
  {
   "cell_type": "code",
   "execution_count": 11,
   "metadata": {},
   "outputs": [
    {
     "data": {
      "text/plain": [
       "[[1, 7], [1, 2, 5], [2, 6], [1, 1, 6]]"
      ]
     },
     "execution_count": 11,
     "metadata": {},
     "output_type": "execute_result"
    }
   ],
   "source": [
    "q=Solution()\n",
    "A=[10,1,2,7,6,1,5]\n",
    "B=8\n",
    "q.combinationSum(A,B)"
   ]
  },
  {
   "cell_type": "markdown",
   "metadata": {},
   "source": [
    "## Count Sorted Vowel String"
   ]
  },
  {
   "cell_type": "code",
   "execution_count": null,
   "metadata": {},
   "outputs": [],
   "source": [
    "Given an integer n, return the number of strings of length n that consist only of vowels (a, e, i, o, u) \n",
    "and are lexicographically sorted.\n",
    "\n",
    "A string s is lexicographically sorted if for all valid i, s[i] is the same as or comes before s[i+1] \n",
    "in the alphabet.\n",
    "\n",
    " \n",
    "\n",
    "Example 1:\n",
    "\n",
    "Input: n = 1\n",
    "Output: 5\n",
    "Explanation: The 5 sorted strings that consist of vowels only are [\"a\",\"e\",\"i\",\"o\",\"u\"].\n",
    "Example 2:\n",
    "\n",
    "Input: n = 2\n",
    "Output: 15\n",
    "Explanation: The 15 sorted strings that consist of vowels only are\n",
    "[\"aa\",\"ae\",\"ai\",\"ao\",\"au\",\"ee\",\"ei\",\"eo\",\"eu\",\"ii\",\"io\",\"iu\",\"oo\",\"ou\",\"uu\"].\n",
    "Note that \"ea\" is not a valid string since 'e' comes after 'a' in the alphabet.\n",
    "Example 3:\n",
    "\n",
    "Input: n = 33\n",
    "Output: 66045\n",
    " "
   ]
  },
  {
   "cell_type": "code",
   "execution_count": 20,
   "metadata": {},
   "outputs": [],
   "source": [
    "class Solution:\n",
    "    def countVowelStrings(self, n: int) -> int:\n",
    "        def generateSet(index,start,size,v,op):\n",
    "            if index>=size:\n",
    "                nonlocal allSet\n",
    "                allSet.append(op)\n",
    "                return\n",
    "            for i in range(start,5):\n",
    "                op2=op+v[i]\n",
    "                generateSet(index+1,i,size,v,op2)\n",
    "            return\n",
    "        vowel=['a','e','i','o','u']\n",
    "        allSet=[]\n",
    "        generateSet(0,0,n,vowel,\"\")\n",
    "        return len(allSet)"
   ]
  },
  {
   "cell_type": "code",
   "execution_count": 21,
   "metadata": {},
   "outputs": [
    {
     "name": "stdout",
     "output_type": "stream",
     "text": [
      "2\n"
     ]
    },
    {
     "data": {
      "text/plain": [
       "15"
      ]
     },
     "execution_count": 21,
     "metadata": {},
     "output_type": "execute_result"
    }
   ],
   "source": [
    "q=Solution()\n",
    "n=int(input())\n",
    "q.countVowelStrings(n)"
   ]
  },
  {
   "cell_type": "code",
   "execution_count": null,
   "metadata": {},
   "outputs": [],
   "source": []
  }
 ],
 "metadata": {
  "kernelspec": {
   "display_name": "Python 3",
   "language": "python",
   "name": "python3"
  },
  "language_info": {
   "codemirror_mode": {
    "name": "ipython",
    "version": 3
   },
   "file_extension": ".py",
   "mimetype": "text/x-python",
   "name": "python",
   "nbconvert_exporter": "python",
   "pygments_lexer": "ipython3",
   "version": "3.8.5"
  }
 },
 "nbformat": 4,
 "nbformat_minor": 4
}
